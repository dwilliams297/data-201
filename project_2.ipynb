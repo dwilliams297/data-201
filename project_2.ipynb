{
 "cells": [
  {
   "cell_type": "markdown",
   "metadata": {},
   "source": [
    "# David Williams\n",
    "# Project 2 - Data 201\n",
    "\n",
    "The dataset comes from the Department of Education (DOE).  The dataset contain 2,463 rows and 49 columns.  The data contains information about college and universities for 2000 and 2013. This project will use linear regression to determine factors that affect the graduation rate.\n",
    "\n",
    "The variables used in this project: tier, type, sticker_price_2013 (tuition cost), sat_avg_2013, grad_rate_150_p_2013\n",
    "\n",
    "tier\n",
    "Selectivity and type combination (defined above):\n",
    "1 = Ivy Plus\n",
    "2 = Other elite schools (public and private)\n",
    "3 = Highly selective public\n",
    "4 = Highly selective private\n",
    "5 = Selective public\n",
    "6 = Selective private\n",
    "7 = Nonselective 4-year public\n",
    "8 = Nonselective 4-year private not-for-profit\n",
    "9 = Two-year (public and private not-for-profit)\n",
    "10 = Four-year for-profit\n",
    "11 = Two-year for-profit\n",
    "12 = Less than two year schools of any type\n",
    "13 = Attending college with insufficient data\n",
    "\n",
    "type\n",
    "1 = public\n",
    "2 = private non-profit\n",
    "3 = for-profit\n",
    "\n",
    "sticker_price_2013\n",
    "Average Annual Cost of Attendance (Tuition + Fees) in [YEAR] = 2000, 2013\n",
    "\n",
    "sat_avg_2013\n",
    "Average SAT scores (scaled to 1600) in [YEAR] = 2001, 2013, defined as the mean of the 25th and 75th percentile of math+verbal SAT scores. Missing for institutions that do not require SAT.\n",
    "\n",
    "grad_rate_150_p_2013\n",
    "Percentage of students graduating within 150 percent of normal time at four-year and two-year institutions in [YEAR] = 2002, 2013\n",
    "\n"
   ]
  },
  {
   "cell_type": "code",
   "execution_count": 64,
   "metadata": {},
   "outputs": [],
   "source": [
    "# Importing the libraries\n",
    "import numpy as np\n",
    "import matplotlib.pyplot as plt\n",
    "%matplotlib inline\n",
    "import pandas as pd\n",
    "import scipy.stats\n",
    "from scipy import stats  "
   ]
  },
  {
   "cell_type": "code",
   "execution_count": 65,
   "metadata": {},
   "outputs": [],
   "source": [
    "scoreboard = pd.read_csv(\"c:/Users/dwilliams/documents/montgomery/data 201/college_scoreboard.csv\")"
   ]
  },
  {
   "cell_type": "code",
   "execution_count": 66,
   "metadata": {},
   "outputs": [
    {
     "name": "stdout",
     "output_type": "stream",
     "text": [
      "<class 'pandas.core.frame.DataFrame'>\n"
     ]
    }
   ],
   "source": [
    "print(type(scoreboard))"
   ]
  },
  {
   "cell_type": "code",
   "execution_count": 70,
   "metadata": {},
   "outputs": [
    {
     "data": {
      "text/html": [
       "<div>\n",
       "<style scoped>\n",
       "    .dataframe tbody tr th:only-of-type {\n",
       "        vertical-align: middle;\n",
       "    }\n",
       "\n",
       "    .dataframe tbody tr th {\n",
       "        vertical-align: top;\n",
       "    }\n",
       "\n",
       "    .dataframe thead th {\n",
       "        text-align: right;\n",
       "    }\n",
       "</style>\n",
       "<table border=\"1\" class=\"dataframe\">\n",
       "  <thead>\n",
       "    <tr style=\"text-align: right;\">\n",
       "      <th></th>\n",
       "      <th>super_opeid</th>\n",
       "      <th>name</th>\n",
       "      <th>region</th>\n",
       "      <th>state</th>\n",
       "      <th>fips</th>\n",
       "      <th>cz</th>\n",
       "      <th>czname</th>\n",
       "      <th>cfips</th>\n",
       "      <th>county</th>\n",
       "      <th>zip</th>\n",
       "      <th>...</th>\n",
       "      <th>hisp_share_fall_2000</th>\n",
       "      <th>alien_share_fall_2000</th>\n",
       "      <th>pct_arthuman_2000</th>\n",
       "      <th>pct_business_2000</th>\n",
       "      <th>pct_health_2000</th>\n",
       "      <th>pct_multidisci_2000</th>\n",
       "      <th>pct_publicsocial_2000</th>\n",
       "      <th>pct_stem_2000</th>\n",
       "      <th>pct_socialscience_2000</th>\n",
       "      <th>pct_tradepersonal_2000</th>\n",
       "    </tr>\n",
       "  </thead>\n",
       "  <tbody>\n",
       "    <tr>\n",
       "      <th>0</th>\n",
       "      <td>30955</td>\n",
       "      <td>ASA Institute Of Business &amp; Computer Technology</td>\n",
       "      <td>1</td>\n",
       "      <td>NY</td>\n",
       "      <td>36</td>\n",
       "      <td>19400</td>\n",
       "      <td>New York</td>\n",
       "      <td>36047</td>\n",
       "      <td>Kings</td>\n",
       "      <td>11201</td>\n",
       "      <td>...</td>\n",
       "      <td>0.073324</td>\n",
       "      <td>0.071229</td>\n",
       "      <td>0.000000</td>\n",
       "      <td>6.603774</td>\n",
       "      <td>11.425576</td>\n",
       "      <td>0.000000</td>\n",
       "      <td>0.000000</td>\n",
       "      <td>81.970650</td>\n",
       "      <td>0.000000</td>\n",
       "      <td>0.000000</td>\n",
       "    </tr>\n",
       "    <tr>\n",
       "      <th>1</th>\n",
       "      <td>3537</td>\n",
       "      <td>Abilene Christian University</td>\n",
       "      <td>3</td>\n",
       "      <td>TX</td>\n",
       "      <td>48</td>\n",
       "      <td>32501</td>\n",
       "      <td>Abilene</td>\n",
       "      <td>48441</td>\n",
       "      <td>Taylor</td>\n",
       "      <td>79699</td>\n",
       "      <td>...</td>\n",
       "      <td>0.056724</td>\n",
       "      <td>0.039943</td>\n",
       "      <td>10.785619</td>\n",
       "      <td>22.503330</td>\n",
       "      <td>5.059920</td>\n",
       "      <td>9.720373</td>\n",
       "      <td>8.788282</td>\n",
       "      <td>11.318242</td>\n",
       "      <td>31.691078</td>\n",
       "      <td>0.133156</td>\n",
       "    </tr>\n",
       "    <tr>\n",
       "      <th>2</th>\n",
       "      <td>1541</td>\n",
       "      <td>Abraham Baldwin Agricultural College</td>\n",
       "      <td>3</td>\n",
       "      <td>GA</td>\n",
       "      <td>13</td>\n",
       "      <td>8503</td>\n",
       "      <td>Valdosta</td>\n",
       "      <td>13277</td>\n",
       "      <td>Tift</td>\n",
       "      <td>31793</td>\n",
       "      <td>...</td>\n",
       "      <td>0.016730</td>\n",
       "      <td>0.013688</td>\n",
       "      <td>0.000000</td>\n",
       "      <td>4.100228</td>\n",
       "      <td>12.072893</td>\n",
       "      <td>47.152618</td>\n",
       "      <td>6.378132</td>\n",
       "      <td>29.612757</td>\n",
       "      <td>0.000000</td>\n",
       "      <td>0.683371</td>\n",
       "    </tr>\n",
       "  </tbody>\n",
       "</table>\n",
       "<p>3 rows × 49 columns</p>\n",
       "</div>"
      ],
      "text/plain": [
       "   super_opeid                                             name  region state  \\\n",
       "0        30955  ASA Institute Of Business & Computer Technology       1    NY   \n",
       "1         3537                     Abilene Christian University       3    TX   \n",
       "2         1541             Abraham Baldwin Agricultural College       3    GA   \n",
       "\n",
       "   fips     cz    czname  cfips  county    zip  ...  hisp_share_fall_2000  \\\n",
       "0    36  19400  New York  36047   Kings  11201  ...              0.073324   \n",
       "1    48  32501   Abilene  48441  Taylor  79699  ...              0.056724   \n",
       "2    13   8503  Valdosta  13277    Tift  31793  ...              0.016730   \n",
       "\n",
       "  alien_share_fall_2000  pct_arthuman_2000  pct_business_2000  \\\n",
       "0              0.071229           0.000000           6.603774   \n",
       "1              0.039943          10.785619          22.503330   \n",
       "2              0.013688           0.000000           4.100228   \n",
       "\n",
       "   pct_health_2000  pct_multidisci_2000  pct_publicsocial_2000  pct_stem_2000  \\\n",
       "0        11.425576             0.000000               0.000000      81.970650   \n",
       "1         5.059920             9.720373               8.788282      11.318242   \n",
       "2        12.072893            47.152618               6.378132      29.612757   \n",
       "\n",
       "   pct_socialscience_2000  pct_tradepersonal_2000  \n",
       "0                0.000000                0.000000  \n",
       "1               31.691078                0.133156  \n",
       "2                0.000000                0.683371  \n",
       "\n",
       "[3 rows x 49 columns]"
      ]
     },
     "execution_count": 70,
     "metadata": {},
     "output_type": "execute_result"
    }
   ],
   "source": [
    "scoreboard.head(3)"
   ]
  },
  {
   "cell_type": "code",
   "execution_count": 67,
   "metadata": {},
   "outputs": [
    {
     "data": {
      "text/plain": [
       "(2463, 49)"
      ]
     },
     "execution_count": 67,
     "metadata": {},
     "output_type": "execute_result"
    }
   ],
   "source": [
    "scoreboard.shape"
   ]
  },
  {
   "cell_type": "code",
   "execution_count": 68,
   "metadata": {},
   "outputs": [
    {
     "data": {
      "text/plain": [
       "2"
      ]
     },
     "execution_count": 68,
     "metadata": {},
     "output_type": "execute_result"
    }
   ],
   "source": [
    "scoreboard.ndim"
   ]
  },
  {
   "cell_type": "code",
   "execution_count": 71,
   "metadata": {},
   "outputs": [
    {
     "data": {
      "text/html": [
       "<div>\n",
       "<style scoped>\n",
       "    .dataframe tbody tr th:only-of-type {\n",
       "        vertical-align: middle;\n",
       "    }\n",
       "\n",
       "    .dataframe tbody tr th {\n",
       "        vertical-align: top;\n",
       "    }\n",
       "\n",
       "    .dataframe thead th {\n",
       "        text-align: right;\n",
       "    }\n",
       "</style>\n",
       "<table border=\"1\" class=\"dataframe\">\n",
       "  <thead>\n",
       "    <tr style=\"text-align: right;\">\n",
       "      <th></th>\n",
       "      <th>super_opeid</th>\n",
       "      <th>name</th>\n",
       "      <th>region</th>\n",
       "      <th>state</th>\n",
       "      <th>fips</th>\n",
       "      <th>cz</th>\n",
       "      <th>czname</th>\n",
       "      <th>cfips</th>\n",
       "      <th>county</th>\n",
       "      <th>zip</th>\n",
       "      <th>...</th>\n",
       "      <th>hisp_share_fall_2000</th>\n",
       "      <th>alien_share_fall_2000</th>\n",
       "      <th>pct_arthuman_2000</th>\n",
       "      <th>pct_business_2000</th>\n",
       "      <th>pct_health_2000</th>\n",
       "      <th>pct_multidisci_2000</th>\n",
       "      <th>pct_publicsocial_2000</th>\n",
       "      <th>pct_stem_2000</th>\n",
       "      <th>pct_socialscience_2000</th>\n",
       "      <th>pct_tradepersonal_2000</th>\n",
       "    </tr>\n",
       "  </thead>\n",
       "  <tbody>\n",
       "    <tr>\n",
       "      <th>0</th>\n",
       "      <td>30955</td>\n",
       "      <td>ASA Institute Of Business &amp; Computer Technology</td>\n",
       "      <td>1</td>\n",
       "      <td>NY</td>\n",
       "      <td>36</td>\n",
       "      <td>19400</td>\n",
       "      <td>New York</td>\n",
       "      <td>36047</td>\n",
       "      <td>Kings</td>\n",
       "      <td>11201</td>\n",
       "      <td>...</td>\n",
       "      <td>0.073324</td>\n",
       "      <td>0.071229</td>\n",
       "      <td>0.000000</td>\n",
       "      <td>6.603774</td>\n",
       "      <td>11.425576</td>\n",
       "      <td>0.000000</td>\n",
       "      <td>0.000000</td>\n",
       "      <td>81.970650</td>\n",
       "      <td>0.000000</td>\n",
       "      <td>0.000000</td>\n",
       "    </tr>\n",
       "    <tr>\n",
       "      <th>1</th>\n",
       "      <td>3537</td>\n",
       "      <td>Abilene Christian University</td>\n",
       "      <td>3</td>\n",
       "      <td>TX</td>\n",
       "      <td>48</td>\n",
       "      <td>32501</td>\n",
       "      <td>Abilene</td>\n",
       "      <td>48441</td>\n",
       "      <td>Taylor</td>\n",
       "      <td>79699</td>\n",
       "      <td>...</td>\n",
       "      <td>0.056724</td>\n",
       "      <td>0.039943</td>\n",
       "      <td>10.785619</td>\n",
       "      <td>22.503330</td>\n",
       "      <td>5.059920</td>\n",
       "      <td>9.720373</td>\n",
       "      <td>8.788282</td>\n",
       "      <td>11.318242</td>\n",
       "      <td>31.691078</td>\n",
       "      <td>0.133156</td>\n",
       "    </tr>\n",
       "    <tr>\n",
       "      <th>2</th>\n",
       "      <td>1541</td>\n",
       "      <td>Abraham Baldwin Agricultural College</td>\n",
       "      <td>3</td>\n",
       "      <td>GA</td>\n",
       "      <td>13</td>\n",
       "      <td>8503</td>\n",
       "      <td>Valdosta</td>\n",
       "      <td>13277</td>\n",
       "      <td>Tift</td>\n",
       "      <td>31793</td>\n",
       "      <td>...</td>\n",
       "      <td>0.016730</td>\n",
       "      <td>0.013688</td>\n",
       "      <td>0.000000</td>\n",
       "      <td>4.100228</td>\n",
       "      <td>12.072893</td>\n",
       "      <td>47.152618</td>\n",
       "      <td>6.378132</td>\n",
       "      <td>29.612757</td>\n",
       "      <td>0.000000</td>\n",
       "      <td>0.683371</td>\n",
       "    </tr>\n",
       "  </tbody>\n",
       "</table>\n",
       "<p>3 rows × 49 columns</p>\n",
       "</div>"
      ],
      "text/plain": [
       "   super_opeid                                             name  region state  \\\n",
       "0        30955  ASA Institute Of Business & Computer Technology       1    NY   \n",
       "1         3537                     Abilene Christian University       3    TX   \n",
       "2         1541             Abraham Baldwin Agricultural College       3    GA   \n",
       "\n",
       "   fips     cz    czname  cfips  county    zip  ...  hisp_share_fall_2000  \\\n",
       "0    36  19400  New York  36047   Kings  11201  ...              0.073324   \n",
       "1    48  32501   Abilene  48441  Taylor  79699  ...              0.056724   \n",
       "2    13   8503  Valdosta  13277    Tift  31793  ...              0.016730   \n",
       "\n",
       "  alien_share_fall_2000  pct_arthuman_2000  pct_business_2000  \\\n",
       "0              0.071229           0.000000           6.603774   \n",
       "1              0.039943          10.785619          22.503330   \n",
       "2              0.013688           0.000000           4.100228   \n",
       "\n",
       "   pct_health_2000  pct_multidisci_2000  pct_publicsocial_2000  pct_stem_2000  \\\n",
       "0        11.425576             0.000000               0.000000      81.970650   \n",
       "1         5.059920             9.720373               8.788282      11.318242   \n",
       "2        12.072893            47.152618               6.378132      29.612757   \n",
       "\n",
       "   pct_socialscience_2000  pct_tradepersonal_2000  \n",
       "0                0.000000                0.000000  \n",
       "1               31.691078                0.133156  \n",
       "2                0.000000                0.683371  \n",
       "\n",
       "[3 rows x 49 columns]"
      ]
     },
     "execution_count": 71,
     "metadata": {},
     "output_type": "execute_result"
    }
   ],
   "source": [
    "scoreboard.head(3)"
   ]
  },
  {
   "cell_type": "code",
   "execution_count": 72,
   "metadata": {},
   "outputs": [
    {
     "data": {
      "text/plain": [
       "super_opeid                           int64\n",
       "name                                 object\n",
       "region                                int64\n",
       "state                                object\n",
       "fips                                  int64\n",
       "cz                                    int64\n",
       "czname                               object\n",
       "cfips                                 int64\n",
       "county                               object\n",
       "zip                                   int64\n",
       "tier                                  int64\n",
       "tier_name                            object\n",
       "type                                  int64\n",
       "iclevel                               int64\n",
       "public                                int64\n",
       "barrons                               int64\n",
       "exp_instr_pc_2000                   float64\n",
       "exp_instr_pc_2013                   float64\n",
       "multi                                 int64\n",
       "hbcu                                  int64\n",
       "flagship                              int64\n",
       "ipeds_enrollment_2013                 int64\n",
       "ipeds_enrollment_2000               float64\n",
       "sticker_price_2013                  float64\n",
       "sticker_price_2000                  float64\n",
       "grad_rate_150_p_2013                float64\n",
       "grad_rate_150_p_2002                float64\n",
       "avgfacsal_2013                      float64\n",
       "avgfacsal_2001                      float64\n",
       "sat_avg_2013                        float64\n",
       "sat_avg_2001                        float64\n",
       "scorecard_netprice_2013             float64\n",
       "scorecard_rej_rate_2013             float64\n",
       "scorecard_median_earnings_2011      float64\n",
       "endowment_pc_2000                   float64\n",
       "exp_instr_2012                      float64\n",
       "exp_instr_2000                      float64\n",
       "asian_or_pacific_share_fall_2000    float64\n",
       "black_share_fall_2000               float64\n",
       "hisp_share_fall_2000                float64\n",
       "alien_share_fall_2000               float64\n",
       "pct_arthuman_2000                   float64\n",
       "pct_business_2000                   float64\n",
       "pct_health_2000                     float64\n",
       "pct_multidisci_2000                 float64\n",
       "pct_publicsocial_2000               float64\n",
       "pct_stem_2000                       float64\n",
       "pct_socialscience_2000              float64\n",
       "pct_tradepersonal_2000              float64\n",
       "dtype: object"
      ]
     },
     "execution_count": 72,
     "metadata": {},
     "output_type": "execute_result"
    }
   ],
   "source": [
    "scoreboard.dtypes"
   ]
  },
  {
   "cell_type": "code",
   "execution_count": 73,
   "metadata": {},
   "outputs": [],
   "source": [
    "# Remove columns not used\n",
    "\n",
    "scoreboard = scoreboard.drop(columns=[\"super_opeid\",\"name\",\"region\",\"state\",\n",
    "                         \"fips\",\"cz\",\"czname\",\"cfips\",\"county\",\n",
    "                         \"zip\",\"tier_name\",\"public\",\"barrons\",\n",
    "                         \"exp_instr_pc_2000\",\"exp_instr_pc_2013\",\n",
    "                         \"iclevel\",\"multi\",\"hbcu\",\"flagship\",\n",
    "                         \"ipeds_enrollment_2013\",\"ipeds_enrollment_2000\",\n",
    "                         \"sticker_price_2000\",\"grad_rate_150_p_2002\",\n",
    "                         \"avgfacsal_2013\",\"avgfacsal_2001\",\"sat_avg_2001\",\n",
    "                         \"scorecard_netprice_2013\",\"scorecard_rej_rate_2013\",\n",
    "                         \"scorecard_median_earnings_2011\",\"endowment_pc_2000\",\n",
    "                         \"exp_instr_2012\",\"exp_instr_2000\",\"asian_or_pacific_share_fall_2000\",\n",
    "                         \"black_share_fall_2000\",\"hisp_share_fall_2000\",\"alien_share_fall_2000\",\n",
    "                         \"pct_arthuman_2000\",\"pct_business_2000\",\"pct_health_2000\",\"pct_multidisci_2000\",\n",
    "                         \"pct_publicsocial_2000\",\"pct_stem_2000\",\"pct_socialscience_2000\",\"pct_tradepersonal_2000\"\n",
    "                         ],axis=0)"
   ]
  },
  {
   "cell_type": "code",
   "execution_count": 74,
   "metadata": {},
   "outputs": [
    {
     "data": {
      "text/html": [
       "<div>\n",
       "<style scoped>\n",
       "    .dataframe tbody tr th:only-of-type {\n",
       "        vertical-align: middle;\n",
       "    }\n",
       "\n",
       "    .dataframe tbody tr th {\n",
       "        vertical-align: top;\n",
       "    }\n",
       "\n",
       "    .dataframe thead th {\n",
       "        text-align: right;\n",
       "    }\n",
       "</style>\n",
       "<table border=\"1\" class=\"dataframe\">\n",
       "  <thead>\n",
       "    <tr style=\"text-align: right;\">\n",
       "      <th></th>\n",
       "      <th>tier</th>\n",
       "      <th>type</th>\n",
       "      <th>sticker_price_2013</th>\n",
       "      <th>grad_rate_150_p_2013</th>\n",
       "      <th>sat_avg_2013</th>\n",
       "    </tr>\n",
       "  </thead>\n",
       "  <tbody>\n",
       "    <tr>\n",
       "      <th>0</th>\n",
       "      <td>11</td>\n",
       "      <td>3</td>\n",
       "      <td>12298.0</td>\n",
       "      <td>0.316261</td>\n",
       "      <td>NaN</td>\n",
       "    </tr>\n",
       "    <tr>\n",
       "      <th>1</th>\n",
       "      <td>6</td>\n",
       "      <td>2</td>\n",
       "      <td>29450.0</td>\n",
       "      <td>0.565611</td>\n",
       "      <td>1075.0</td>\n",
       "    </tr>\n",
       "    <tr>\n",
       "      <th>2</th>\n",
       "      <td>7</td>\n",
       "      <td>1</td>\n",
       "      <td>3394.0</td>\n",
       "      <td>NaN</td>\n",
       "      <td>925.0</td>\n",
       "    </tr>\n",
       "  </tbody>\n",
       "</table>\n",
       "</div>"
      ],
      "text/plain": [
       "   tier  type  sticker_price_2013  grad_rate_150_p_2013  sat_avg_2013\n",
       "0    11     3             12298.0              0.316261           NaN\n",
       "1     6     2             29450.0              0.565611        1075.0\n",
       "2     7     1              3394.0                   NaN         925.0"
      ]
     },
     "execution_count": 74,
     "metadata": {},
     "output_type": "execute_result"
    }
   ],
   "source": [
    "scoreboard.head(3)\n"
   ]
  },
  {
   "cell_type": "code",
   "execution_count": 75,
   "metadata": {},
   "outputs": [],
   "source": [
    "# remove all columns with NaN\n",
    "\n",
    "scoreboard = scoreboard.dropna()"
   ]
  },
  {
   "cell_type": "code",
   "execution_count": 76,
   "metadata": {},
   "outputs": [],
   "source": [
    "# Reorder the columns\n",
    "\n",
    "scoreboard_reorder = scoreboard[[\"tier\",\"type\",\"sticker_price_2013\",\"sat_avg_2013\",\"grad_rate_150_p_2013\"]]"
   ]
  },
  {
   "cell_type": "code",
   "execution_count": 77,
   "metadata": {},
   "outputs": [
    {
     "data": {
      "text/html": [
       "<div>\n",
       "<style scoped>\n",
       "    .dataframe tbody tr th:only-of-type {\n",
       "        vertical-align: middle;\n",
       "    }\n",
       "\n",
       "    .dataframe tbody tr th {\n",
       "        vertical-align: top;\n",
       "    }\n",
       "\n",
       "    .dataframe thead th {\n",
       "        text-align: right;\n",
       "    }\n",
       "</style>\n",
       "<table border=\"1\" class=\"dataframe\">\n",
       "  <thead>\n",
       "    <tr style=\"text-align: right;\">\n",
       "      <th></th>\n",
       "      <th>tier</th>\n",
       "      <th>type</th>\n",
       "      <th>sticker_price_2013</th>\n",
       "      <th>sat_avg_2013</th>\n",
       "      <th>grad_rate_150_p_2013</th>\n",
       "    </tr>\n",
       "  </thead>\n",
       "  <tbody>\n",
       "    <tr>\n",
       "      <th>1</th>\n",
       "      <td>6</td>\n",
       "      <td>2</td>\n",
       "      <td>29450.0000</td>\n",
       "      <td>1075.0000</td>\n",
       "      <td>0.565611</td>\n",
       "    </tr>\n",
       "    <tr>\n",
       "      <th>4</th>\n",
       "      <td>5</td>\n",
       "      <td>1</td>\n",
       "      <td>8014.0000</td>\n",
       "      <td>984.0000</td>\n",
       "      <td>0.261176</td>\n",
       "    </tr>\n",
       "    <tr>\n",
       "      <th>5</th>\n",
       "      <td>6</td>\n",
       "      <td>2</td>\n",
       "      <td>32340.0000</td>\n",
       "      <td>1115.0000</td>\n",
       "      <td>0.625142</td>\n",
       "    </tr>\n",
       "    <tr>\n",
       "      <th>7</th>\n",
       "      <td>6</td>\n",
       "      <td>2</td>\n",
       "      <td>32660.0000</td>\n",
       "      <td>990.0000</td>\n",
       "      <td>0.544513</td>\n",
       "    </tr>\n",
       "    <tr>\n",
       "      <th>10</th>\n",
       "      <td>8</td>\n",
       "      <td>2</td>\n",
       "      <td>12430.0000</td>\n",
       "      <td>925.0000</td>\n",
       "      <td>0.333333</td>\n",
       "    </tr>\n",
       "    <tr>\n",
       "      <th>14</th>\n",
       "      <td>5</td>\n",
       "      <td>1</td>\n",
       "      <td>9096.0000</td>\n",
       "      <td>843.5000</td>\n",
       "      <td>0.291383</td>\n",
       "    </tr>\n",
       "    <tr>\n",
       "      <th>16</th>\n",
       "      <td>5</td>\n",
       "      <td>1</td>\n",
       "      <td>8720.0000</td>\n",
       "      <td>855.0000</td>\n",
       "      <td>0.251665</td>\n",
       "    </tr>\n",
       "    <tr>\n",
       "      <th>19</th>\n",
       "      <td>8</td>\n",
       "      <td>2</td>\n",
       "      <td>30131.0000</td>\n",
       "      <td>1165.0000</td>\n",
       "      <td>0.723485</td>\n",
       "    </tr>\n",
       "    <tr>\n",
       "      <th>20</th>\n",
       "      <td>5</td>\n",
       "      <td>1</td>\n",
       "      <td>5192.0000</td>\n",
       "      <td>880.0000</td>\n",
       "      <td>0.424920</td>\n",
       "    </tr>\n",
       "    <tr>\n",
       "      <th>23</th>\n",
       "      <td>6</td>\n",
       "      <td>2</td>\n",
       "      <td>37300.0000</td>\n",
       "      <td>1130.0000</td>\n",
       "      <td>0.736000</td>\n",
       "    </tr>\n",
       "    <tr>\n",
       "      <th>25</th>\n",
       "      <td>5</td>\n",
       "      <td>1</td>\n",
       "      <td>6200.0000</td>\n",
       "      <td>890.0000</td>\n",
       "      <td>0.342466</td>\n",
       "    </tr>\n",
       "    <tr>\n",
       "      <th>26</th>\n",
       "      <td>6</td>\n",
       "      <td>2</td>\n",
       "      <td>22740.0000</td>\n",
       "      <td>960.0000</td>\n",
       "      <td>0.457516</td>\n",
       "    </tr>\n",
       "    <tr>\n",
       "      <th>27</th>\n",
       "      <td>6</td>\n",
       "      <td>2</td>\n",
       "      <td>26106.0000</td>\n",
       "      <td>1055.0000</td>\n",
       "      <td>0.621622</td>\n",
       "    </tr>\n",
       "    <tr>\n",
       "      <th>32</th>\n",
       "      <td>6</td>\n",
       "      <td>2</td>\n",
       "      <td>40660.0000</td>\n",
       "      <td>1160.0000</td>\n",
       "      <td>0.791738</td>\n",
       "    </tr>\n",
       "    <tr>\n",
       "      <th>36</th>\n",
       "      <td>6</td>\n",
       "      <td>2</td>\n",
       "      <td>34585.0000</td>\n",
       "      <td>1023.0000</td>\n",
       "      <td>0.611765</td>\n",
       "    </tr>\n",
       "    <tr>\n",
       "      <th>39</th>\n",
       "      <td>6</td>\n",
       "      <td>2</td>\n",
       "      <td>30080.0000</td>\n",
       "      <td>970.0000</td>\n",
       "      <td>0.513245</td>\n",
       "    </tr>\n",
       "    <tr>\n",
       "      <th>48</th>\n",
       "      <td>6</td>\n",
       "      <td>2</td>\n",
       "      <td>30940.0000</td>\n",
       "      <td>880.0000</td>\n",
       "      <td>0.448718</td>\n",
       "    </tr>\n",
       "    <tr>\n",
       "      <th>52</th>\n",
       "      <td>4</td>\n",
       "      <td>2</td>\n",
       "      <td>41833.0000</td>\n",
       "      <td>1245.0000</td>\n",
       "      <td>0.799844</td>\n",
       "    </tr>\n",
       "    <tr>\n",
       "      <th>53</th>\n",
       "      <td>2</td>\n",
       "      <td>2</td>\n",
       "      <td>48526.0000</td>\n",
       "      <td>1449.0000</td>\n",
       "      <td>0.957806</td>\n",
       "    </tr>\n",
       "    <tr>\n",
       "      <th>55</th>\n",
       "      <td>6</td>\n",
       "      <td>2</td>\n",
       "      <td>26850.0000</td>\n",
       "      <td>1030.0000</td>\n",
       "      <td>0.567850</td>\n",
       "    </tr>\n",
       "    <tr>\n",
       "      <th>56</th>\n",
       "      <td>8</td>\n",
       "      <td>2</td>\n",
       "      <td>23750.0000</td>\n",
       "      <td>1010.0000</td>\n",
       "      <td>0.413793</td>\n",
       "    </tr>\n",
       "    <tr>\n",
       "      <th>57</th>\n",
       "      <td>6</td>\n",
       "      <td>2</td>\n",
       "      <td>26262.0000</td>\n",
       "      <td>1075.0000</td>\n",
       "      <td>0.603604</td>\n",
       "    </tr>\n",
       "    <tr>\n",
       "      <th>59</th>\n",
       "      <td>5</td>\n",
       "      <td>1</td>\n",
       "      <td>6702.0000</td>\n",
       "      <td>965.0000</td>\n",
       "      <td>0.297486</td>\n",
       "    </tr>\n",
       "    <tr>\n",
       "      <th>67</th>\n",
       "      <td>5</td>\n",
       "      <td>1</td>\n",
       "      <td>6553.0000</td>\n",
       "      <td>1150.0000</td>\n",
       "      <td>0.685714</td>\n",
       "    </tr>\n",
       "    <tr>\n",
       "      <th>70</th>\n",
       "      <td>6</td>\n",
       "      <td>2</td>\n",
       "      <td>38160.0000</td>\n",
       "      <td>1100.0000</td>\n",
       "      <td>0.605042</td>\n",
       "    </tr>\n",
       "    <tr>\n",
       "      <th>72</th>\n",
       "      <td>5</td>\n",
       "      <td>1</td>\n",
       "      <td>9851.2832</td>\n",
       "      <td>1129.4187</td>\n",
       "      <td>0.572980</td>\n",
       "    </tr>\n",
       "    <tr>\n",
       "      <th>75</th>\n",
       "      <td>5</td>\n",
       "      <td>1</td>\n",
       "      <td>7086.6860</td>\n",
       "      <td>980.0000</td>\n",
       "      <td>0.359088</td>\n",
       "    </tr>\n",
       "    <tr>\n",
       "      <th>77</th>\n",
       "      <td>5</td>\n",
       "      <td>1</td>\n",
       "      <td>5862.0000</td>\n",
       "      <td>1030.0000</td>\n",
       "      <td>0.407270</td>\n",
       "    </tr>\n",
       "    <tr>\n",
       "      <th>78</th>\n",
       "      <td>5</td>\n",
       "      <td>1</td>\n",
       "      <td>5266.0000</td>\n",
       "      <td>1005.0000</td>\n",
       "      <td>0.341301</td>\n",
       "    </tr>\n",
       "    <tr>\n",
       "      <th>91</th>\n",
       "      <td>6</td>\n",
       "      <td>2</td>\n",
       "      <td>26868.0000</td>\n",
       "      <td>1109.5000</td>\n",
       "      <td>0.643087</td>\n",
       "    </tr>\n",
       "    <tr>\n",
       "      <th>...</th>\n",
       "      <td>...</td>\n",
       "      <td>...</td>\n",
       "      <td>...</td>\n",
       "      <td>...</td>\n",
       "      <td>...</td>\n",
       "    </tr>\n",
       "    <tr>\n",
       "      <th>2394</th>\n",
       "      <td>6</td>\n",
       "      <td>2</td>\n",
       "      <td>33410.0000</td>\n",
       "      <td>1050.0000</td>\n",
       "      <td>0.765273</td>\n",
       "    </tr>\n",
       "    <tr>\n",
       "      <th>2395</th>\n",
       "      <td>6</td>\n",
       "      <td>2</td>\n",
       "      <td>30364.0000</td>\n",
       "      <td>1117.5000</td>\n",
       "      <td>0.571429</td>\n",
       "    </tr>\n",
       "    <tr>\n",
       "      <th>2396</th>\n",
       "      <td>4</td>\n",
       "      <td>2</td>\n",
       "      <td>39990.0000</td>\n",
       "      <td>1170.0000</td>\n",
       "      <td>0.757732</td>\n",
       "    </tr>\n",
       "    <tr>\n",
       "      <th>2403</th>\n",
       "      <td>4</td>\n",
       "      <td>2</td>\n",
       "      <td>31900.0000</td>\n",
       "      <td>1300.0000</td>\n",
       "      <td>0.867241</td>\n",
       "    </tr>\n",
       "    <tr>\n",
       "      <th>2404</th>\n",
       "      <td>6</td>\n",
       "      <td>2</td>\n",
       "      <td>28030.0000</td>\n",
       "      <td>995.0000</td>\n",
       "      <td>0.537500</td>\n",
       "    </tr>\n",
       "    <tr>\n",
       "      <th>2405</th>\n",
       "      <td>6</td>\n",
       "      <td>2</td>\n",
       "      <td>32830.0000</td>\n",
       "      <td>965.0000</td>\n",
       "      <td>0.544643</td>\n",
       "    </tr>\n",
       "    <tr>\n",
       "      <th>2407</th>\n",
       "      <td>2</td>\n",
       "      <td>2</td>\n",
       "      <td>44800.0000</td>\n",
       "      <td>1315.0000</td>\n",
       "      <td>0.877500</td>\n",
       "    </tr>\n",
       "    <tr>\n",
       "      <th>2408</th>\n",
       "      <td>6</td>\n",
       "      <td>2</td>\n",
       "      <td>41636.0000</td>\n",
       "      <td>1065.0000</td>\n",
       "      <td>0.667742</td>\n",
       "    </tr>\n",
       "    <tr>\n",
       "      <th>2413</th>\n",
       "      <td>6</td>\n",
       "      <td>2</td>\n",
       "      <td>39007.6450</td>\n",
       "      <td>1025.0000</td>\n",
       "      <td>0.561626</td>\n",
       "    </tr>\n",
       "    <tr>\n",
       "      <th>2416</th>\n",
       "      <td>6</td>\n",
       "      <td>2</td>\n",
       "      <td>31262.0000</td>\n",
       "      <td>1045.0000</td>\n",
       "      <td>0.579032</td>\n",
       "    </tr>\n",
       "    <tr>\n",
       "      <th>2417</th>\n",
       "      <td>6</td>\n",
       "      <td>2</td>\n",
       "      <td>44076.0000</td>\n",
       "      <td>1200.0000</td>\n",
       "      <td>0.788288</td>\n",
       "    </tr>\n",
       "    <tr>\n",
       "      <th>2418</th>\n",
       "      <td>6</td>\n",
       "      <td>2</td>\n",
       "      <td>11400.0000</td>\n",
       "      <td>1025.0000</td>\n",
       "      <td>0.619632</td>\n",
       "    </tr>\n",
       "    <tr>\n",
       "      <th>2419</th>\n",
       "      <td>6</td>\n",
       "      <td>2</td>\n",
       "      <td>31111.0000</td>\n",
       "      <td>1100.0000</td>\n",
       "      <td>0.586806</td>\n",
       "    </tr>\n",
       "    <tr>\n",
       "      <th>2420</th>\n",
       "      <td>5</td>\n",
       "      <td>1</td>\n",
       "      <td>12244.0000</td>\n",
       "      <td>980.0000</td>\n",
       "      <td>0.501155</td>\n",
       "    </tr>\n",
       "    <tr>\n",
       "      <th>2421</th>\n",
       "      <td>8</td>\n",
       "      <td>2</td>\n",
       "      <td>24650.0000</td>\n",
       "      <td>890.0000</td>\n",
       "      <td>0.432749</td>\n",
       "    </tr>\n",
       "    <tr>\n",
       "      <th>2423</th>\n",
       "      <td>6</td>\n",
       "      <td>2</td>\n",
       "      <td>21260.0000</td>\n",
       "      <td>999.0000</td>\n",
       "      <td>0.564972</td>\n",
       "    </tr>\n",
       "    <tr>\n",
       "      <th>2424</th>\n",
       "      <td>6</td>\n",
       "      <td>2</td>\n",
       "      <td>14360.0000</td>\n",
       "      <td>920.0000</td>\n",
       "      <td>0.393939</td>\n",
       "    </tr>\n",
       "    <tr>\n",
       "      <th>2425</th>\n",
       "      <td>2</td>\n",
       "      <td>2</td>\n",
       "      <td>48310.0000</td>\n",
       "      <td>1455.0000</td>\n",
       "      <td>0.953618</td>\n",
       "    </tr>\n",
       "    <tr>\n",
       "      <th>2431</th>\n",
       "      <td>6</td>\n",
       "      <td>2</td>\n",
       "      <td>26300.0000</td>\n",
       "      <td>1008.5000</td>\n",
       "      <td>0.530516</td>\n",
       "    </tr>\n",
       "    <tr>\n",
       "      <th>2432</th>\n",
       "      <td>5</td>\n",
       "      <td>1</td>\n",
       "      <td>5583.0000</td>\n",
       "      <td>865.0000</td>\n",
       "      <td>0.455301</td>\n",
       "    </tr>\n",
       "    <tr>\n",
       "      <th>2433</th>\n",
       "      <td>5</td>\n",
       "      <td>1</td>\n",
       "      <td>14082.0000</td>\n",
       "      <td>1055.0000</td>\n",
       "      <td>0.558659</td>\n",
       "    </tr>\n",
       "    <tr>\n",
       "      <th>2436</th>\n",
       "      <td>6</td>\n",
       "      <td>2</td>\n",
       "      <td>25960.0000</td>\n",
       "      <td>1000.0000</td>\n",
       "      <td>0.635359</td>\n",
       "    </tr>\n",
       "    <tr>\n",
       "      <th>2438</th>\n",
       "      <td>4</td>\n",
       "      <td>2</td>\n",
       "      <td>37120.0000</td>\n",
       "      <td>1165.0000</td>\n",
       "      <td>0.815584</td>\n",
       "    </tr>\n",
       "    <tr>\n",
       "      <th>2443</th>\n",
       "      <td>5</td>\n",
       "      <td>1</td>\n",
       "      <td>8557.0000</td>\n",
       "      <td>995.0000</td>\n",
       "      <td>0.488201</td>\n",
       "    </tr>\n",
       "    <tr>\n",
       "      <th>2448</th>\n",
       "      <td>6</td>\n",
       "      <td>2</td>\n",
       "      <td>33960.0000</td>\n",
       "      <td>1090.0000</td>\n",
       "      <td>0.762911</td>\n",
       "    </tr>\n",
       "    <tr>\n",
       "      <th>2449</th>\n",
       "      <td>6</td>\n",
       "      <td>2</td>\n",
       "      <td>21552.0000</td>\n",
       "      <td>1005.0000</td>\n",
       "      <td>0.478448</td>\n",
       "    </tr>\n",
       "    <tr>\n",
       "      <th>2452</th>\n",
       "      <td>1</td>\n",
       "      <td>2</td>\n",
       "      <td>45800.0000</td>\n",
       "      <td>1505.0000</td>\n",
       "      <td>0.977913</td>\n",
       "    </tr>\n",
       "    <tr>\n",
       "      <th>2454</th>\n",
       "      <td>6</td>\n",
       "      <td>2</td>\n",
       "      <td>38730.0000</td>\n",
       "      <td>1240.0000</td>\n",
       "      <td>0.851893</td>\n",
       "    </tr>\n",
       "    <tr>\n",
       "      <th>2455</th>\n",
       "      <td>6</td>\n",
       "      <td>2</td>\n",
       "      <td>17630.0000</td>\n",
       "      <td>1050.0000</td>\n",
       "      <td>0.577740</td>\n",
       "    </tr>\n",
       "    <tr>\n",
       "      <th>2460</th>\n",
       "      <td>5</td>\n",
       "      <td>1</td>\n",
       "      <td>8317.0000</td>\n",
       "      <td>960.0000</td>\n",
       "      <td>0.337676</td>\n",
       "    </tr>\n",
       "  </tbody>\n",
       "</table>\n",
       "<p>970 rows × 5 columns</p>\n",
       "</div>"
      ],
      "text/plain": [
       "      tier  type  sticker_price_2013  sat_avg_2013  grad_rate_150_p_2013\n",
       "1        6     2          29450.0000     1075.0000              0.565611\n",
       "4        5     1           8014.0000      984.0000              0.261176\n",
       "5        6     2          32340.0000     1115.0000              0.625142\n",
       "7        6     2          32660.0000      990.0000              0.544513\n",
       "10       8     2          12430.0000      925.0000              0.333333\n",
       "14       5     1           9096.0000      843.5000              0.291383\n",
       "16       5     1           8720.0000      855.0000              0.251665\n",
       "19       8     2          30131.0000     1165.0000              0.723485\n",
       "20       5     1           5192.0000      880.0000              0.424920\n",
       "23       6     2          37300.0000     1130.0000              0.736000\n",
       "25       5     1           6200.0000      890.0000              0.342466\n",
       "26       6     2          22740.0000      960.0000              0.457516\n",
       "27       6     2          26106.0000     1055.0000              0.621622\n",
       "32       6     2          40660.0000     1160.0000              0.791738\n",
       "36       6     2          34585.0000     1023.0000              0.611765\n",
       "39       6     2          30080.0000      970.0000              0.513245\n",
       "48       6     2          30940.0000      880.0000              0.448718\n",
       "52       4     2          41833.0000     1245.0000              0.799844\n",
       "53       2     2          48526.0000     1449.0000              0.957806\n",
       "55       6     2          26850.0000     1030.0000              0.567850\n",
       "56       8     2          23750.0000     1010.0000              0.413793\n",
       "57       6     2          26262.0000     1075.0000              0.603604\n",
       "59       5     1           6702.0000      965.0000              0.297486\n",
       "67       5     1           6553.0000     1150.0000              0.685714\n",
       "70       6     2          38160.0000     1100.0000              0.605042\n",
       "72       5     1           9851.2832     1129.4187              0.572980\n",
       "75       5     1           7086.6860      980.0000              0.359088\n",
       "77       5     1           5862.0000     1030.0000              0.407270\n",
       "78       5     1           5266.0000     1005.0000              0.341301\n",
       "91       6     2          26868.0000     1109.5000              0.643087\n",
       "...    ...   ...                 ...           ...                   ...\n",
       "2394     6     2          33410.0000     1050.0000              0.765273\n",
       "2395     6     2          30364.0000     1117.5000              0.571429\n",
       "2396     4     2          39990.0000     1170.0000              0.757732\n",
       "2403     4     2          31900.0000     1300.0000              0.867241\n",
       "2404     6     2          28030.0000      995.0000              0.537500\n",
       "2405     6     2          32830.0000      965.0000              0.544643\n",
       "2407     2     2          44800.0000     1315.0000              0.877500\n",
       "2408     6     2          41636.0000     1065.0000              0.667742\n",
       "2413     6     2          39007.6450     1025.0000              0.561626\n",
       "2416     6     2          31262.0000     1045.0000              0.579032\n",
       "2417     6     2          44076.0000     1200.0000              0.788288\n",
       "2418     6     2          11400.0000     1025.0000              0.619632\n",
       "2419     6     2          31111.0000     1100.0000              0.586806\n",
       "2420     5     1          12244.0000      980.0000              0.501155\n",
       "2421     8     2          24650.0000      890.0000              0.432749\n",
       "2423     6     2          21260.0000      999.0000              0.564972\n",
       "2424     6     2          14360.0000      920.0000              0.393939\n",
       "2425     2     2          48310.0000     1455.0000              0.953618\n",
       "2431     6     2          26300.0000     1008.5000              0.530516\n",
       "2432     5     1           5583.0000      865.0000              0.455301\n",
       "2433     5     1          14082.0000     1055.0000              0.558659\n",
       "2436     6     2          25960.0000     1000.0000              0.635359\n",
       "2438     4     2          37120.0000     1165.0000              0.815584\n",
       "2443     5     1           8557.0000      995.0000              0.488201\n",
       "2448     6     2          33960.0000     1090.0000              0.762911\n",
       "2449     6     2          21552.0000     1005.0000              0.478448\n",
       "2452     1     2          45800.0000     1505.0000              0.977913\n",
       "2454     6     2          38730.0000     1240.0000              0.851893\n",
       "2455     6     2          17630.0000     1050.0000              0.577740\n",
       "2460     5     1           8317.0000      960.0000              0.337676\n",
       "\n",
       "[970 rows x 5 columns]"
      ]
     },
     "execution_count": 77,
     "metadata": {},
     "output_type": "execute_result"
    }
   ],
   "source": [
    "scoreboard_reorder"
   ]
  },
  {
   "cell_type": "code",
   "execution_count": 78,
   "metadata": {
    "scrolled": false
   },
   "outputs": [],
   "source": [
    "# separate the independent variables and dependent variables\n",
    "# The independent variables are:tier, type, sticker_price_2013, sat_avg_2013 (X)\n",
    "# The dependent variable is: grad_rate_150_p_2013 (y)\n",
    "\n",
    "X = scoreboard_reorder.iloc[:, :-1].values\n",
    "y = scoreboard_reorder.iloc[:,4].values\n"
   ]
  },
  {
   "cell_type": "code",
   "execution_count": 79,
   "metadata": {},
   "outputs": [],
   "source": [
    "import sklearn as scikit_learn"
   ]
  },
  {
   "cell_type": "code",
   "execution_count": 80,
   "metadata": {},
   "outputs": [],
   "source": [
    "# Splitting the dataset into the Training set and Test set\n",
    "\n",
    "from sklearn.model_selection import train_test_split"
   ]
  },
  {
   "cell_type": "code",
   "execution_count": 81,
   "metadata": {},
   "outputs": [],
   "source": [
    "# 80% was used for training 20% testing\n",
    "\n",
    "X_train, X_test, y_train, y_test = train_test_split(X, y, test_size = 0.2, random_state = 0)"
   ]
  },
  {
   "cell_type": "code",
   "execution_count": 82,
   "metadata": {},
   "outputs": [],
   "source": [
    "# Fitting Multiple Linear Regression to the Training set\n",
    "\n",
    "from sklearn.linear_model import LinearRegression"
   ]
  },
  {
   "cell_type": "code",
   "execution_count": 83,
   "metadata": {},
   "outputs": [
    {
     "data": {
      "text/plain": [
       "LinearRegression(copy_X=True, fit_intercept=True, n_jobs=None, normalize=False)"
      ]
     },
     "execution_count": 83,
     "metadata": {},
     "output_type": "execute_result"
    }
   ],
   "source": [
    "regressor = LinearRegression()\n",
    "regressor.fit(X_train, y_train)"
   ]
  },
  {
   "cell_type": "code",
   "execution_count": 84,
   "metadata": {},
   "outputs": [
    {
     "data": {
      "text/plain": [
       "LinearRegression(copy_X=True, fit_intercept=True, n_jobs=None, normalize=False)"
      ]
     },
     "execution_count": 84,
     "metadata": {},
     "output_type": "execute_result"
    }
   ],
   "source": [
    "regressor.fit(X_train, y_train)"
   ]
  },
  {
   "cell_type": "code",
   "execution_count": 85,
   "metadata": {},
   "outputs": [],
   "source": [
    "# Predicting the Test set results\n",
    "\n",
    "y_pred = regressor.predict(X_test)"
   ]
  },
  {
   "cell_type": "code",
   "execution_count": 25,
   "metadata": {},
   "outputs": [
    {
     "data": {
      "text/plain": [
       "array([0.48542355, 0.48603902, 0.5748622 , 0.59348033, 0.5015817 ,\n",
       "       0.67672167, 0.32128721, 0.59636944, 0.57418056, 0.60654211,\n",
       "       0.62415282, 0.67004356, 0.48841787, 0.87592657, 0.6126121 ,\n",
       "       0.43708863, 0.48749434, 0.35042984, 0.56099949, 0.55828998,\n",
       "       0.66514644, 0.35495076, 0.59752916, 0.61154048, 0.51921306,\n",
       "       0.53654236, 0.597861  , 0.58652777, 0.55026214, 0.59731074,\n",
       "       0.43269146, 0.46259641, 0.44392339, 0.98263596, 0.45045309,\n",
       "       0.99345726, 0.40832239, 0.55733734, 0.56142878, 0.4989393 ,\n",
       "       0.51030424, 0.51002655, 0.53751484, 0.33212115, 0.46723311,\n",
       "       0.44331066, 0.51367934, 0.52128999, 0.57598146, 0.5629494 ,\n",
       "       0.43412838, 0.34126564, 0.49743333, 0.56136726, 0.46673513,\n",
       "       0.57998899, 0.36340427, 0.42781288, 0.65043   , 0.52309749,\n",
       "       0.50927342, 0.55484795, 0.65172494, 0.52013587, 0.52461995,\n",
       "       0.52214773, 0.54341225, 0.30915463, 0.67746539, 0.66243916,\n",
       "       0.65356559, 0.45680318, 0.43906584, 0.64328957, 0.46002334,\n",
       "       0.64723221, 0.56995196, 0.46125322, 0.54959968, 0.64617449,\n",
       "       0.57958308, 0.41649813, 0.51771806, 0.63217616, 0.76720347,\n",
       "       0.52575327, 0.42920294, 0.40633762, 0.45114832, 0.62682185,\n",
       "       0.44194698, 0.6472574 , 0.43269471, 0.64967164, 0.50170257,\n",
       "       0.5243283 , 0.50584944, 0.49849862, 0.68549657, 0.72510248,\n",
       "       0.61203868, 0.42257396, 0.50072357, 0.55085804, 0.3615328 ,\n",
       "       0.6721345 , 0.4631705 , 0.41583233, 0.63541014, 0.46419037,\n",
       "       0.62910209, 0.90830938, 0.65070742, 0.66891724, 0.63885754,\n",
       "       0.75855377, 0.69041306, 0.63356713, 0.47679975, 0.51543148,\n",
       "       0.48990478, 0.77148721, 0.41884703, 0.7097458 , 0.44849926,\n",
       "       0.47130342, 0.63607887, 0.49214905, 0.6041567 , 0.63065347,\n",
       "       0.59597072, 0.6091245 , 0.52439356, 0.57587378, 0.56717818,\n",
       "       0.62418826, 0.90636246, 0.46884991, 0.52927228, 0.52478124,\n",
       "       0.53256416, 0.46046452, 0.48062747, 0.62042092, 0.51642643,\n",
       "       0.38914983, 0.58230759, 0.56644432, 0.32205147, 0.5850268 ,\n",
       "       0.79203588, 0.51354007, 0.52575132, 0.38667526, 0.60464823,\n",
       "       0.67623276, 0.7091462 , 0.41392107, 0.44071317, 0.34779965,\n",
       "       0.59516024, 0.41039214, 0.89640624, 0.50030261, 0.50024998,\n",
       "       0.52835749, 0.35050385, 0.56799258, 0.60914538, 0.47723071,\n",
       "       0.43547262, 0.46493486, 0.62207936, 0.46901099, 0.58566192,\n",
       "       0.52626152, 0.61651534, 0.46087141, 0.43412394, 0.46722554,\n",
       "       0.73462089, 0.522788  , 0.6922276 , 0.44778119, 0.47764123,\n",
       "       0.36285237, 0.71540483, 0.43125755, 0.74874755, 0.63295441,\n",
       "       0.51758817, 0.96616988, 0.65420554, 0.51131262])"
      ]
     },
     "execution_count": 25,
     "metadata": {},
     "output_type": "execute_result"
    }
   ],
   "source": [
    "# array predict\n",
    "\n",
    "y_pred"
   ]
  },
  {
   "cell_type": "code",
   "execution_count": 86,
   "metadata": {},
   "outputs": [
    {
     "data": {
      "text/plain": [
       "array([0.50705394, 0.50552923, 0.61176471, 0.44028951, 0.25968586,\n",
       "       0.81327129, 0.10869565, 0.62130177, 0.64675325, 0.57309941,\n",
       "       0.67923169, 0.75822368, 0.37897574, 0.78612717, 0.69621444,\n",
       "       0.41460055, 0.41232228, 0.31538461, 0.7146402 , 0.66375199,\n",
       "       0.6795995 , 0.36520489, 0.60647829, 0.52272727, 0.50409165,\n",
       "       0.40425532, 0.69746914, 0.65757576, 0.5       , 0.64171123,\n",
       "       0.44444444, 0.30830671, 0.56043956, 0.94188984, 0.47953216,\n",
       "       0.97791318, 0.296875  , 0.50462351, 0.50843373, 0.60652009,\n",
       "       0.44161233, 0.63088512, 0.51609907, 0.34782609, 0.37857143,\n",
       "       0.52173913, 0.55428571, 0.65483668, 0.47142857, 0.55      ,\n",
       "       0.47906977, 0.2439759 , 0.51173896, 0.39150943, 0.58503401,\n",
       "       0.56557377, 0.32150538, 0.40536913, 0.80408238, 0.57103064,\n",
       "       0.56300268, 0.60642919, 0.7004717 , 0.5139785 , 0.51990067,\n",
       "       0.42727273, 0.56842105, 0.16049383, 0.70080862, 0.68515206,\n",
       "       0.75625579, 0.44825475, 0.39240506, 0.68187579, 0.27560521,\n",
       "       0.79641485, 0.55163728, 0.37916064, 0.51851852, 0.6344086 ,\n",
       "       0.47653849, 0.40938511, 0.54464286, 0.65007321, 0.69689119,\n",
       "       0.53051643, 0.390625  , 0.373057  , 0.4471831 , 0.76312227,\n",
       "       0.45239909, 0.75795297, 0.45659722, 0.70126227, 0.47844828,\n",
       "       0.55187638, 0.57228916, 0.38297872, 0.81756098, 0.90018055,\n",
       "       0.74015748, 0.18421053, 0.41695866, 0.56187291, 0.42492013,\n",
       "       0.83144385, 0.56051661, 0.38235294, 0.62244898, 0.53321365,\n",
       "       0.7629108 , 0.8189911 , 0.49393939, 0.69209809, 0.5       ,\n",
       "       0.77410468, 0.81558442, 0.66433566, 0.45098039, 0.56132076,\n",
       "       0.53465346, 0.81616482, 0.30593607, 0.75960952, 0.4021164 ,\n",
       "       0.28395062, 0.58075601, 0.40727003, 0.63271605, 0.70987977,\n",
       "       0.57615894, 0.68493151, 0.71791045, 0.5779451 , 0.49928469,\n",
       "       0.65511684, 0.91167513, 0.36489607, 0.56027165, 0.50469748,\n",
       "       0.56736527, 0.60857143, 0.40228175, 0.58265583, 0.45015576,\n",
       "       0.375     , 0.46022727, 0.68852459, 0.495     , 0.54635108,\n",
       "       0.78066914, 0.75095202, 0.47916667, 0.41176471, 0.77669235,\n",
       "       0.68994413, 0.69011407, 0.46233587, 0.3460452 , 0.29138322,\n",
       "       0.71861472, 0.43103448, 0.90677966, 0.44090056, 0.4125    ,\n",
       "       0.69518717, 0.45530146, 0.65110565, 0.60526316, 0.50610032,\n",
       "       0.37942122, 0.45714286, 0.59708738, 0.47140039, 0.49406047,\n",
       "       0.52121212, 0.6749409 , 0.58532609, 0.36317135, 0.39423547,\n",
       "       0.6331058 , 0.4321608 , 0.82531458, 0.49122807, 0.51908136,\n",
       "       0.30225989, 0.81648523, 0.45918367, 0.90311267, 0.67586207,\n",
       "       0.53833866, 0.95780591, 0.76024279, 0.47906977])"
      ]
     },
     "execution_count": 86,
     "metadata": {},
     "output_type": "execute_result"
    }
   ],
   "source": [
    "y_test"
   ]
  },
  {
   "cell_type": "code",
   "execution_count": 87,
   "metadata": {},
   "outputs": [
    {
     "data": {
      "text/plain": [
       "0.007715815323295074"
      ]
     },
     "execution_count": 87,
     "metadata": {},
     "output_type": "execute_result"
    }
   ],
   "source": [
    "# mean square error\n",
    "\n",
    "np.mean((y_test - y_pred)**2)"
   ]
  },
  {
   "cell_type": "code",
   "execution_count": 88,
   "metadata": {},
   "outputs": [],
   "source": [
    "# Determine Residual\n",
    "\n",
    "resid = y_test - y_pred"
   ]
  },
  {
   "cell_type": "code",
   "execution_count": 89,
   "metadata": {},
   "outputs": [],
   "source": [
    "# Put in Series array\n",
    "\n",
    "resid=pd.Series(resid)"
   ]
  },
  {
   "cell_type": "code",
   "execution_count": 90,
   "metadata": {},
   "outputs": [
    {
     "name": "stdout",
     "output_type": "stream",
     "text": [
      "0      0.021630\n",
      "1      0.019490\n",
      "2      0.036903\n",
      "3     -0.153191\n",
      "4     -0.241896\n",
      "5      0.136550\n",
      "6     -0.212592\n",
      "7      0.024932\n",
      "8      0.072573\n",
      "9     -0.033443\n",
      "10     0.055079\n",
      "11     0.088180\n",
      "12    -0.109442\n",
      "13    -0.089799\n",
      "14     0.083602\n",
      "15    -0.022488\n",
      "16    -0.075172\n",
      "17    -0.035045\n",
      "18     0.153641\n",
      "19     0.105462\n",
      "20     0.014453\n",
      "21     0.010254\n",
      "22     0.008949\n",
      "23    -0.088813\n",
      "24    -0.015121\n",
      "25    -0.132287\n",
      "26     0.099608\n",
      "27     0.071048\n",
      "28    -0.050262\n",
      "29     0.044400\n",
      "         ...   \n",
      "164   -0.087750\n",
      "165    0.166830\n",
      "166    0.104798\n",
      "167    0.083113\n",
      "168   -0.003882\n",
      "169    0.028870\n",
      "170   -0.056051\n",
      "171   -0.007792\n",
      "172   -0.024992\n",
      "173    0.002389\n",
      "174   -0.091601\n",
      "175   -0.005049\n",
      "176    0.058426\n",
      "177    0.124455\n",
      "178   -0.070953\n",
      "179   -0.072990\n",
      "180   -0.101515\n",
      "181   -0.090627\n",
      "182    0.133087\n",
      "183    0.043447\n",
      "184    0.041440\n",
      "185   -0.060592\n",
      "186    0.101080\n",
      "187    0.027926\n",
      "188    0.154365\n",
      "189    0.042908\n",
      "190    0.020750\n",
      "191   -0.008364\n",
      "192    0.106037\n",
      "193   -0.032243\n",
      "Length: 194, dtype: float64\n"
     ]
    }
   ],
   "source": [
    "print(resid)"
   ]
  },
  {
   "cell_type": "code",
   "execution_count": 91,
   "metadata": {},
   "outputs": [],
   "source": [
    "import seaborn as sns"
   ]
  },
  {
   "cell_type": "code",
   "execution_count": 94,
   "metadata": {},
   "outputs": [
    {
     "data": {
      "text/plain": [
       "<matplotlib.axes._subplots.AxesSubplot at 0x658f848e10>"
      ]
     },
     "execution_count": 94,
     "metadata": {},
     "output_type": "execute_result"
    },
    {
     "data": {
      "image/png": "[encoded data removed]",
      "text/plain": [
       "<Figure size 432x288 with 1 Axes>"
      ]
     },
     "metadata": {
      "needs_background": "light"
     },
     "output_type": "display_data"
    }
   ],
   "source": [
    "## Test for Homoscedasticity\n",
    "\n",
    "sns.regplot(y_pred,resid)"
   ]
  },
  {
   "cell_type": "markdown",
   "metadata": {},
   "source": [
    "The data is Heteroscedasticity which mean it fails Homoscedasticity due to the datapoint spread out from the regression line "
   ]
  },
  {
   "cell_type": "code",
   "execution_count": 95,
   "metadata": {},
   "outputs": [
    {
     "data": {
      "text/plain": [
       "array([ 8.26747418e-03, -4.70748672e-02,  4.43815769e-06,  8.50951223e-04])"
      ]
     },
     "execution_count": 95,
     "metadata": {},
     "output_type": "execute_result"
    }
   ],
   "source": [
    "regressor.coef_"
   ]
  },
  {
   "cell_type": "markdown",
   "metadata": {},
   "source": [
    "coefficients:  tier = 8.26747418e-03, type =  -4.70748672e-02, tuition = 4.43815769-e06, sat = 8.50951223e-04 "
   ]
  },
  {
   "cell_type": "code",
   "execution_count": 96,
   "metadata": {},
   "outputs": [
    {
     "data": {
      "text/plain": [
       "-0.4046096931633911"
      ]
     },
     "execution_count": 96,
     "metadata": {},
     "output_type": "execute_result"
    }
   ],
   "source": [
    "regressor.intercept_"
   ]
  },
  {
   "cell_type": "markdown",
   "metadata": {},
   "source": [
    "Y intercept = -0.4046096931633911"
   ]
  },
  {
   "cell_type": "markdown",
   "metadata": {},
   "source": [
    "grad_rate = 8.26747418e-03 * tier - 4.70748672e-02 * type + 4.43815769e-06 * tuition + 8.50951223e-04 * sat"
   ]
  },
  {
   "cell_type": "code",
   "execution_count": 97,
   "metadata": {},
   "outputs": [
    {
     "data": {
      "text/plain": [
       "0.7266549498130273"
      ]
     },
     "execution_count": 97,
     "metadata": {},
     "output_type": "execute_result"
    }
   ],
   "source": [
    "regressor.score(X,y)"
   ]
  },
  {
   "cell_type": "markdown",
   "metadata": {},
   "source": [
    "Score near 1 which mean as sort of good mode"
   ]
  },
  {
   "cell_type": "code",
   "execution_count": 98,
   "metadata": {},
   "outputs": [],
   "source": [
    "# get 95% confidence interal\n",
    "\n",
    "confidence=0.95"
   ]
  },
  {
   "cell_type": "code",
   "execution_count": 99,
   "metadata": {},
   "outputs": [],
   "source": [
    "a = 1.0 * np.array(scoreboard_reorder)"
   ]
  },
  {
   "cell_type": "code",
   "execution_count": 100,
   "metadata": {},
   "outputs": [],
   "source": [
    "n = len(a)"
   ]
  },
  {
   "cell_type": "code",
   "execution_count": 101,
   "metadata": {},
   "outputs": [],
   "source": [
    "m, se = np.mean(a), scipy.stats.sem(a)"
   ]
  },
  {
   "cell_type": "code",
   "execution_count": 102,
   "metadata": {},
   "outputs": [],
   "source": [
    "h = se * scipy.stats.t.ppf((1 + confidence) / 2., n-1)"
   ]
  },
  {
   "cell_type": "code",
   "execution_count": 103,
   "metadata": {},
   "outputs": [
    {
     "data": {
      "text/plain": [
       "array([8.58131649e-02, 3.07432279e-02, 8.14483081e+02, 8.87022321e+00,\n",
       "       1.06938416e-02])"
      ]
     },
     "execution_count": 103,
     "metadata": {},
     "output_type": "execute_result"
    }
   ],
   "source": [
    "h"
   ]
  },
  {
   "cell_type": "code",
   "execution_count": 104,
   "metadata": {},
   "outputs": [
    {
     "data": {
      "text/plain": [
       "4790.924494077022"
      ]
     },
     "execution_count": 104,
     "metadata": {},
     "output_type": "execute_result"
    }
   ],
   "source": [
    "m"
   ]
  },
  {
   "cell_type": "code",
   "execution_count": 105,
   "metadata": {},
   "outputs": [
    {
     "data": {
      "text/plain": [
       "(array([4790.83868091, 4790.89375085, 3976.44141291, 4782.05427087,\n",
       "        4790.91380024]),\n",
       " array([4791.01030724, 4790.9552373 , 5605.40757524, 4799.79471728,\n",
       "        4790.93518792]))"
      ]
     },
     "execution_count": 105,
     "metadata": {},
     "output_type": "execute_result"
    }
   ],
   "source": [
    "m-h, m+h"
   ]
  },
  {
   "cell_type": "markdown",
   "metadata": {},
   "source": [
    "lower limit m-h, upper limit m+h"
   ]
  },
  {
   "cell_type": "code",
   "execution_count": 106,
   "metadata": {},
   "outputs": [
    {
     "data": {
      "text/html": [
       "<div>\n",
       "<style scoped>\n",
       "    .dataframe tbody tr th:only-of-type {\n",
       "        vertical-align: middle;\n",
       "    }\n",
       "\n",
       "    .dataframe tbody tr th {\n",
       "        vertical-align: top;\n",
       "    }\n",
       "\n",
       "    .dataframe thead th {\n",
       "        text-align: right;\n",
       "    }\n",
       "</style>\n",
       "<table border=\"1\" class=\"dataframe\">\n",
       "  <thead>\n",
       "    <tr style=\"text-align: right;\">\n",
       "      <th></th>\n",
       "      <th>tier</th>\n",
       "      <th>type</th>\n",
       "      <th>sticker_price_2013</th>\n",
       "      <th>sat_avg_2013</th>\n",
       "      <th>grad_rate_150_p_2013</th>\n",
       "    </tr>\n",
       "  </thead>\n",
       "  <tbody>\n",
       "    <tr>\n",
       "      <th>1</th>\n",
       "      <td>6</td>\n",
       "      <td>2</td>\n",
       "      <td>29450.0</td>\n",
       "      <td>1075.0</td>\n",
       "      <td>0.565611</td>\n",
       "    </tr>\n",
       "    <tr>\n",
       "      <th>4</th>\n",
       "      <td>5</td>\n",
       "      <td>1</td>\n",
       "      <td>8014.0</td>\n",
       "      <td>984.0</td>\n",
       "      <td>0.261176</td>\n",
       "    </tr>\n",
       "    <tr>\n",
       "      <th>5</th>\n",
       "      <td>6</td>\n",
       "      <td>2</td>\n",
       "      <td>32340.0</td>\n",
       "      <td>1115.0</td>\n",
       "      <td>0.625142</td>\n",
       "    </tr>\n",
       "  </tbody>\n",
       "</table>\n",
       "</div>"
      ],
      "text/plain": [
       "   tier  type  sticker_price_2013  sat_avg_2013  grad_rate_150_p_2013\n",
       "1     6     2             29450.0        1075.0              0.565611\n",
       "4     5     1              8014.0         984.0              0.261176\n",
       "5     6     2             32340.0        1115.0              0.625142"
      ]
     },
     "execution_count": 106,
     "metadata": {},
     "output_type": "execute_result"
    }
   ],
   "source": [
    "scoreboard_reorder.head(3)"
   ]
  },
  {
   "cell_type": "code",
   "execution_count": 107,
   "metadata": {},
   "outputs": [],
   "source": [
    "# Rename the columns\n",
    "\n",
    "scoreboard_reorder.rename(columns = {'tier':'Tier','type':'Type',\n",
    "                          'sticker_price_2013':'Tuition','sat_avg_2013':'SAT','grad_rate_150_p_2013':'Graduation'},\n",
    "                          inplace = True)"
   ]
  },
  {
   "cell_type": "code",
   "execution_count": 108,
   "metadata": {},
   "outputs": [
    {
     "data": {
      "text/html": [
       "<div>\n",
       "<style scoped>\n",
       "    .dataframe tbody tr th:only-of-type {\n",
       "        vertical-align: middle;\n",
       "    }\n",
       "\n",
       "    .dataframe tbody tr th {\n",
       "        vertical-align: top;\n",
       "    }\n",
       "\n",
       "    .dataframe thead th {\n",
       "        text-align: right;\n",
       "    }\n",
       "</style>\n",
       "<table border=\"1\" class=\"dataframe\">\n",
       "  <thead>\n",
       "    <tr style=\"text-align: right;\">\n",
       "      <th></th>\n",
       "      <th>Tier</th>\n",
       "      <th>Type</th>\n",
       "      <th>Tuition</th>\n",
       "      <th>SAT</th>\n",
       "      <th>Graduation</th>\n",
       "    </tr>\n",
       "  </thead>\n",
       "  <tbody>\n",
       "    <tr>\n",
       "      <th>1</th>\n",
       "      <td>6</td>\n",
       "      <td>2</td>\n",
       "      <td>29450.0</td>\n",
       "      <td>1075.0</td>\n",
       "      <td>0.565611</td>\n",
       "    </tr>\n",
       "    <tr>\n",
       "      <th>4</th>\n",
       "      <td>5</td>\n",
       "      <td>1</td>\n",
       "      <td>8014.0</td>\n",
       "      <td>984.0</td>\n",
       "      <td>0.261176</td>\n",
       "    </tr>\n",
       "    <tr>\n",
       "      <th>5</th>\n",
       "      <td>6</td>\n",
       "      <td>2</td>\n",
       "      <td>32340.0</td>\n",
       "      <td>1115.0</td>\n",
       "      <td>0.625142</td>\n",
       "    </tr>\n",
       "  </tbody>\n",
       "</table>\n",
       "</div>"
      ],
      "text/plain": [
       "   Tier  Type  Tuition     SAT  Graduation\n",
       "1     6     2  29450.0  1075.0    0.565611\n",
       "4     5     1   8014.0   984.0    0.261176\n",
       "5     6     2  32340.0  1115.0    0.625142"
      ]
     },
     "execution_count": 108,
     "metadata": {},
     "output_type": "execute_result"
    }
   ],
   "source": [
    "scoreboard_reorder.head(3)"
   ]
  },
  {
   "cell_type": "code",
   "execution_count": 109,
   "metadata": {},
   "outputs": [],
   "source": [
    "import seaborn as sns"
   ]
  },
  {
   "cell_type": "code",
   "execution_count": 110,
   "metadata": {
    "scrolled": true
   },
   "outputs": [
    {
     "data": {
      "image/png": "[encoded data removed]",
      "text/plain": [
       "<Figure size 432x288 with 1 Axes>"
      ]
     },
     "metadata": {
      "needs_background": "light"
     },
     "output_type": "display_data"
    }
   ],
   "source": [
    "fig, ax = plt.subplots()\n",
    "ax.hist(scoreboard_reorder.SAT)\n",
    "ax.set_ylabel('count')\n",
    "ax.set_xlabel('SAT Scores')\n",
    "ax.set_title('SAT Scores')\n",
    "plt.show()"
   ]
  },
  {
   "cell_type": "code",
   "execution_count": 111,
   "metadata": {},
   "outputs": [
    {
     "data": {
      "text/plain": [
       "<matplotlib.axes._subplots.AxesSubplot at 0x6588dfabe0>"
      ]
     },
     "execution_count": 111,
     "metadata": {},
     "output_type": "execute_result"
    },
    {
     "data": {
      "image/png": "[encoded data removed]",
      "text/plain": [
       "<Figure size 432x288 with 1 Axes>"
      ]
     },
     "metadata": {
      "needs_background": "light"
     },
     "output_type": "display_data"
    }
   ],
   "source": [
    "sns.regplot(scoreboard_reorder.Graduation,scoreboard_reorder.SAT,scoreboard_reorder)"
   ]
  },
  {
   "cell_type": "markdown",
   "metadata": {},
   "source": [
    "SAT score is normal"
   ]
  },
  {
   "cell_type": "code",
   "execution_count": 112,
   "metadata": {},
   "outputs": [
    {
     "data": {
      "image/png": "[encoded data removed]",
      "text/plain": [
       "<Figure size 432x288 with 1 Axes>"
      ]
     },
     "metadata": {
      "needs_background": "light"
     },
     "output_type": "display_data"
    }
   ],
   "source": [
    "fig, ax = plt.subplots()\n",
    "ax.hist(scoreboard_reorder.Tuition)\n",
    "ax.set_ylabel('count')\n",
    "ax.set_xlabel('Tuition Cost')\n",
    "ax.set_title('Tuition Cost')\n",
    "plt.show()"
   ]
  },
  {
   "cell_type": "code",
   "execution_count": 113,
   "metadata": {},
   "outputs": [
    {
     "data": {
      "text/plain": [
       "<matplotlib.axes._subplots.AxesSubplot at 0x658da0f198>"
      ]
     },
     "execution_count": 113,
     "metadata": {},
     "output_type": "execute_result"
    },
    {
     "data": {
      "image/png": "[encoded data removed]",
      "text/plain": [
       "<Figure size 432x288 with 1 Axes>"
      ]
     },
     "metadata": {
      "needs_background": "light"
     },
     "output_type": "display_data"
    }
   ],
   "source": [
    "sns.regplot(scoreboard_reorder.Graduation,scoreboard_reorder.Tuition,scoreboard_reorder)"
   ]
  },
  {
   "cell_type": "markdown",
   "metadata": {},
   "source": [
    "Tuition is not normal"
   ]
  },
  {
   "cell_type": "code",
   "execution_count": 114,
   "metadata": {},
   "outputs": [
    {
     "data": {
      "image/png": "[encoded data removed]",
      "text/plain": [
       "<Figure size 432x288 with 1 Axes>"
      ]
     },
     "metadata": {
      "needs_background": "light"
     },
     "output_type": "display_data"
    }
   ],
   "source": [
    "fig, ax = plt.subplots()\n",
    "ax.hist(scoreboard_reorder.Graduation)\n",
    "ax.set_ylabel('count')\n",
    "ax.set_xlabel('Graduation Rate')\n",
    "ax.set_title('Graduation Rate')\n",
    "plt.show()"
   ]
  },
  {
   "cell_type": "markdown",
   "metadata": {},
   "source": [
    "Graduation is normal"
   ]
  },
  {
   "cell_type": "code",
   "execution_count": 115,
   "metadata": {},
   "outputs": [
    {
     "data": {
      "text/plain": [
       "<seaborn.axisgrid.PairGrid at 0x65909e4cf8>"
      ]
     },
     "execution_count": 115,
     "metadata": {},
     "output_type": "execute_result"
    },
    {
     "data": {
      "image/png": "[encoded data removed]",
      "text/plain": [
       "<Figure size 900x900 with 30 Axes>"
      ]
     },
     "metadata": {
      "needs_background": "light"
     },
     "output_type": "display_data"
    }
   ],
   "source": [
    "sns.pairplot(scoreboard_reorder)"
   ]
  },
  {
   "cell_type": "code",
   "execution_count": null,
   "metadata": {},
   "outputs": [],
   "source": []
  }
 ],
 "metadata": {
  "kernelspec": {
   "display_name": "Python 3",
   "language": "python",
   "name": "python3"
  },
  "language_info": {
   "codemirror_mode": {
    "name": "ipython",
    "version": 3
   },
   "file_extension": ".py",
   "mimetype": "text/x-python",
   "name": "python",
   "nbconvert_exporter": "python",
   "pygments_lexer": "ipython3",
   "version": "3.7.3"
  }
 },
 "nbformat": 4,
 "nbformat_minor": 2
}
