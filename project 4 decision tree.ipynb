{
 "cells": [
  {
   "cell_type": "markdown",
   "metadata": {},
   "source": [
    "# David Williams\n",
    "\n",
    "# Project 4 Decision Tree Data 201\n",
    "\n",
    "The data come from the Kaggle websit and shows 13 factors that contrubute to heart disease.\n",
    "\n",
    "Context\n",
    "This database contains 76 attributes, but all published experiments refer to using a subset of 14 of them. In particular, the Cleveland database is the only one that has been used by ML researchers to this date. The \"goal\" field refers to the presence of heart disease in the patient. It is integer valued from 0 (no presence) to 4.\n"
   ]
  },
  {
   "cell_type": "markdown",
   "metadata": {},
   "source": [
    "# Content\n",
    "\n",
    "Attribute Information:\n",
    "> 1. age\n",
    "> 2. sex\n",
    "> 3. chest pain type (4 values)\n",
    "> 4. resting blood pressure\n",
    "> 5. serum cholestoral in mg/dl\n",
    "> 6. fasting blood sugar > 120 mg/dl\n",
    "> 7. resting electrocardiographic results (values 0,1,2)\n",
    "> 8. maximum heart rate achieved\n",
    "> 9. exercise induced angina\n",
    "> 10. oldpeak = ST depression induced by exercise relative to rest\n",
    "> 11. the slope of the peak exercise ST segment\n",
    "> 12. number of major vessels (0-3) colored by flourosopy\n",
    "> 13. thal: 3 = normal; 6 = fixed defect; 7 = reversable defect\n",
    "\n",
    "The 14th variable is the target and 1 if heart disease and 0 if no heart disease"
   ]
  },
  {
   "cell_type": "code",
   "execution_count": 22,
   "metadata": {},
   "outputs": [],
   "source": [
    "import matplotlib as mpl\n",
    "import matplotlib.pyplot as plt"
   ]
  },
  {
   "cell_type": "code",
   "execution_count": 23,
   "metadata": {},
   "outputs": [],
   "source": [
    "import pandas as pd\n",
    "import scipy.stats\n",
    "from scipy import stats "
   ]
  },
  {
   "cell_type": "code",
   "execution_count": 24,
   "metadata": {},
   "outputs": [],
   "source": [
    "import numpy as np"
   ]
  },
  {
   "cell_type": "code",
   "execution_count": 25,
   "metadata": {},
   "outputs": [],
   "source": [
    "heart_disease=pd.read_csv('C:/Users/dwilliams/Documents/montgomery/data 201/heart.csv')"
   ]
  },
  {
   "cell_type": "code",
   "execution_count": 26,
   "metadata": {},
   "outputs": [
    {
     "data": {
      "text/html": [
       "<div>\n",
       "<style scoped>\n",
       "    .dataframe tbody tr th:only-of-type {\n",
       "        vertical-align: middle;\n",
       "    }\n",
       "\n",
       "    .dataframe tbody tr th {\n",
       "        vertical-align: top;\n",
       "    }\n",
       "\n",
       "    .dataframe thead th {\n",
       "        text-align: right;\n",
       "    }\n",
       "</style>\n",
       "<table border=\"1\" class=\"dataframe\">\n",
       "  <thead>\n",
       "    <tr style=\"text-align: right;\">\n",
       "      <th></th>\n",
       "      <th>age</th>\n",
       "      <th>sex</th>\n",
       "      <th>cp</th>\n",
       "      <th>trestbps</th>\n",
       "      <th>chol</th>\n",
       "      <th>fbs</th>\n",
       "      <th>restecg</th>\n",
       "      <th>thalach</th>\n",
       "      <th>exang</th>\n",
       "      <th>oldpeak</th>\n",
       "      <th>slope</th>\n",
       "      <th>ca</th>\n",
       "      <th>thal</th>\n",
       "      <th>target</th>\n",
       "    </tr>\n",
       "  </thead>\n",
       "  <tbody>\n",
       "    <tr>\n",
       "      <th>0</th>\n",
       "      <td>63</td>\n",
       "      <td>1</td>\n",
       "      <td>3</td>\n",
       "      <td>145</td>\n",
       "      <td>233</td>\n",
       "      <td>1</td>\n",
       "      <td>0</td>\n",
       "      <td>150</td>\n",
       "      <td>0</td>\n",
       "      <td>2.3</td>\n",
       "      <td>0</td>\n",
       "      <td>0</td>\n",
       "      <td>1</td>\n",
       "      <td>1</td>\n",
       "    </tr>\n",
       "    <tr>\n",
       "      <th>1</th>\n",
       "      <td>37</td>\n",
       "      <td>1</td>\n",
       "      <td>2</td>\n",
       "      <td>130</td>\n",
       "      <td>250</td>\n",
       "      <td>0</td>\n",
       "      <td>1</td>\n",
       "      <td>187</td>\n",
       "      <td>0</td>\n",
       "      <td>3.5</td>\n",
       "      <td>0</td>\n",
       "      <td>0</td>\n",
       "      <td>2</td>\n",
       "      <td>1</td>\n",
       "    </tr>\n",
       "    <tr>\n",
       "      <th>2</th>\n",
       "      <td>41</td>\n",
       "      <td>0</td>\n",
       "      <td>1</td>\n",
       "      <td>130</td>\n",
       "      <td>204</td>\n",
       "      <td>0</td>\n",
       "      <td>0</td>\n",
       "      <td>172</td>\n",
       "      <td>0</td>\n",
       "      <td>1.4</td>\n",
       "      <td>2</td>\n",
       "      <td>0</td>\n",
       "      <td>2</td>\n",
       "      <td>1</td>\n",
       "    </tr>\n",
       "  </tbody>\n",
       "</table>\n",
       "</div>"
      ],
      "text/plain": [
       "   age  sex  cp  trestbps  chol  fbs  restecg  thalach  exang  oldpeak  slope  \\\n",
       "0   63    1   3       145   233    1        0      150      0      2.3      0   \n",
       "1   37    1   2       130   250    0        1      187      0      3.5      0   \n",
       "2   41    0   1       130   204    0        0      172      0      1.4      2   \n",
       "\n",
       "   ca  thal  target  \n",
       "0   0     1       1  \n",
       "1   0     2       1  \n",
       "2   0     2       1  "
      ]
     },
     "execution_count": 26,
     "metadata": {},
     "output_type": "execute_result"
    }
   ],
   "source": [
    "heart_disease.head(3)"
   ]
  },
  {
   "cell_type": "code",
   "execution_count": 27,
   "metadata": {},
   "outputs": [
    {
     "data": {
      "text/plain": [
       "(1212, 14)"
      ]
     },
     "execution_count": 27,
     "metadata": {},
     "output_type": "execute_result"
    }
   ],
   "source": [
    "heart_disease.shape"
   ]
  },
  {
   "cell_type": "code",
   "execution_count": 28,
   "metadata": {},
   "outputs": [],
   "source": [
    "# separate the independent variables and dependent variables\n",
    "# The independent variables are: Resting blood pressure, serum cholestoral \n",
    "# The dependent variable is: target heart disease\n",
    "\n",
    "#Using blood pressure and cholestoral to predict heart disease\n",
    "\n",
    "X = heart_disease.iloc[:, [3,4]].values\n",
    "y = heart_disease.iloc[:,13].values\n"
   ]
  },
  {
   "cell_type": "code",
   "execution_count": 29,
   "metadata": {},
   "outputs": [],
   "source": [
    "import sklearn as scikit_learn"
   ]
  },
  {
   "cell_type": "code",
   "execution_count": 30,
   "metadata": {},
   "outputs": [],
   "source": [
    "# Splitting the dataset into the Training set and Test set\n",
    "\n",
    "from sklearn.model_selection import train_test_split"
   ]
  },
  {
   "cell_type": "code",
   "execution_count": 31,
   "metadata": {},
   "outputs": [],
   "source": [
    "# Splitting the dataset into the Training set and Test set\n",
    "\n",
    "X_train, X_test, y_train, y_test = train_test_split(X, y, test_size = 0.2, random_state = 0)"
   ]
  },
  {
   "cell_type": "code",
   "execution_count": 32,
   "metadata": {},
   "outputs": [
    {
     "data": {
      "text/plain": [
       "((969, 2), (969,))"
      ]
     },
     "execution_count": 32,
     "metadata": {},
     "output_type": "execute_result"
    }
   ],
   "source": [
    "X_train.shape,y_train.shape"
   ]
  },
  {
   "cell_type": "code",
   "execution_count": 33,
   "metadata": {},
   "outputs": [
    {
     "data": {
      "text/plain": [
       "((243, 2), (243,))"
      ]
     },
     "execution_count": 33,
     "metadata": {},
     "output_type": "execute_result"
    }
   ],
   "source": [
    "X_test.shape,y_test.shape"
   ]
  },
  {
   "cell_type": "code",
   "execution_count": 34,
   "metadata": {},
   "outputs": [],
   "source": [
    "# Feature Scaling\n",
    "# Feature Scaling was used because of the different values of independent variables\n",
    "from sklearn.preprocessing import StandardScaler\n",
    "sc_X = StandardScaler()\n",
    "X_train = sc_X.fit_transform(X_train)\n",
    "X_test = sc_X.transform(X_test)"
   ]
  },
  {
   "cell_type": "code",
   "execution_count": 35,
   "metadata": {},
   "outputs": [
    {
     "data": {
      "text/plain": [
       "array([[ 0.36598997,  0.9303303 ],\n",
       "       [-0.67182453, -0.11988141],\n",
       "       [-0.38354273, -0.02263958],\n",
       "       ...,\n",
       "       [-0.38354273,  1.22205578],\n",
       "       [-0.21057365,  0.24963753],\n",
       "       [-0.21057365, -0.80057419]])"
      ]
     },
     "execution_count": 35,
     "metadata": {},
     "output_type": "execute_result"
    }
   ],
   "source": [
    "X_train"
   ]
  },
  {
   "cell_type": "code",
   "execution_count": 36,
   "metadata": {},
   "outputs": [
    {
     "data": {
      "text/plain": [
       "array([[-6.71824534e-01,  4.05224448e-01],\n",
       "       [ 9.42553578e-01, -4.20879479e-02],\n",
       "       [ 1.35364522e-01, -8.78367645e-01],\n",
       "       [-2.10573645e-01, -7.42229090e-01],\n",
       "       [-9.52609228e-02, -2.23975320e+00],\n",
       "       [ 8.27240855e-01,  6.19156464e-01],\n",
       "       [-7.87137256e-01,  5.99708099e-01],\n",
       "       [ 2.50677244e-01, -9.75609471e-01],\n",
       "       [ 4.81302689e-01, -1.34512841e+00],\n",
       "       [ 1.05786630e+00, -6.15363130e-02],\n",
       "       [-5.56511812e-01,  7.74743384e-01],\n",
       "       [-1.24838815e+00, -6.83883995e-01],\n",
       "       [ 1.05786630e+00,  2.30189163e-01],\n",
       "       [ 4.81302689e-01, -1.05340293e+00],\n",
       "       [-1.13307542e+00,  4.24672813e-01],\n",
       "       [ 1.35364522e-01,  4.83017909e-01],\n",
       "       [-9.52609228e-02,  7.16398289e-01],\n",
       "       [-6.71824534e-01,  4.44121178e-01],\n",
       "       [ 1.92271172e+00,  8.33088480e-01],\n",
       "       [-7.87137256e-01, -7.03332360e-01],\n",
       "       [-6.71824534e-01,  3.27430988e-01],\n",
       "       [ 2.50677244e-01,  1.33874597e+00],\n",
       "       [ 1.92271172e+00,  8.33088480e-01],\n",
       "       [ 1.63442991e+00,  1.08591723e+00],\n",
       "       [-1.36370087e+00,  4.44121178e-01],\n",
       "       [ 1.05786630e+00,  1.62571473e-02],\n",
       "       [ 1.93020883e-01,  1.52395703e-01],\n",
       "       [ 1.05786630e+00, -6.15363130e-02],\n",
       "       [ 1.63442991e+00,  2.21392240e+00],\n",
       "       [-6.71824534e-01,  1.53322962e+00],\n",
       "       [-1.53666995e+00, -1.19881408e-01],\n",
       "       [-1.76729540e+00, -9.56161105e-01],\n",
       "       [-2.10573645e-01,  1.20260742e+00],\n",
       "       [-1.24838815e+00,  3.66327718e-01],\n",
       "       [-2.10573645e-01, -8.20022550e-01],\n",
       "       [ 2.44161897e+00,  5.51538774e-02],\n",
       "       [ 4.81302689e-01, -5.67193804e-01],\n",
       "       [ 2.21099352e+00,  1.55267799e+00],\n",
       "       [-9.52609228e-02,  1.63047145e+00],\n",
       "       [ 4.81302689e-01,  1.20260742e+00],\n",
       "       [ 1.35364522e-01, -8.78367645e-01],\n",
       "       [ 1.05786630e+00,  7.16398289e-01],\n",
       "       [ 2.00517995e-02,  1.86385183e+00],\n",
       "       [-6.71824534e-01,  5.51538774e-02],\n",
       "       [-1.47901359e+00, -4.50503614e-01],\n",
       "       [-9.52609228e-02,  1.32947338e-01],\n",
       "       [-9.52609228e-02, -2.94916694e-01],\n",
       "       [ 3.65989966e-01, -6.15363130e-02],\n",
       "       [ 3.65989966e-01,  4.83017909e-01],\n",
       "       [-2.10573645e-01, -7.42229090e-01],\n",
       "       [-9.52609228e-02,  1.63047145e+00],\n",
       "       [-9.52609228e-02,  1.32947338e-01],\n",
       "       [-9.60106340e-01,  1.10536559e+00],\n",
       "       [ 4.81302689e-01, -1.39329773e-01],\n",
       "       [ 1.05786630e+00,  4.63569544e-01],\n",
       "       [ 4.81302689e-01, -4.89400344e-01],\n",
       "       [ 3.65989966e-01, -6.15363130e-02],\n",
       "       [ 7.69584494e-01,  6.96949924e-01],\n",
       "       [-2.10573645e-01, -5.86642169e-01],\n",
       "       [-1.24838815e+00, -1.39329773e-01],\n",
       "       [-9.52609228e-02,  1.10536559e+00],\n",
       "       [ 3.47943347e+00,  7.16398289e-01],\n",
       "       [-9.52609228e-02,  3.46879353e-01],\n",
       "       [-9.52609228e-02, -9.56161105e-01],\n",
       "       [ 4.81302689e-01, -1.00433043e-01],\n",
       "       [-1.24838815e+00, -8.78367645e-01],\n",
       "       [ 3.65989966e-01, -1.38402514e+00],\n",
       "       [ 3.65989966e-01, -1.38402514e+00],\n",
       "       [-2.10573645e-01, -8.00574185e-01],\n",
       "       [ 2.21099352e+00, -3.72710154e-01],\n",
       "       [-6.71824534e-01, -6.83883995e-01],\n",
       "       [-6.71824534e-01, -4.20879479e-02],\n",
       "       [-6.71824534e-01, -9.36712740e-01],\n",
       "       [ 1.05786630e+00,  1.62571473e-02],\n",
       "       [ 1.35364522e-01, -8.20022550e-01],\n",
       "       [ 1.35364522e-01,  3.16689229e+00],\n",
       "       [ 2.00517995e-02, -1.20898985e+00],\n",
       "       [-6.71824534e-01, -1.13119639e+00],\n",
       "       [-2.10573645e-01,  2.49637528e-01],\n",
       "       [ 1.63442991e+00, -1.59795715e+00],\n",
       "       [-6.71824534e-01,  2.09723221e+00],\n",
       "       [ 2.21099352e+00,  8.13640115e-01],\n",
       "       [-4.98855451e-01,  6.96949924e-01],\n",
       "       [ 1.17317902e+00,  1.00812377e+00],\n",
       "       [-1.24838815e+00, -1.39329773e-01],\n",
       "       [ 2.32630624e+00, -9.17264375e-01],\n",
       "       [-6.71824534e-01,  2.09723221e+00],\n",
       "       [ 2.00517995e-02,  1.86385183e+00],\n",
       "       [-1.24838815e+00, -9.56161105e-01],\n",
       "       [-1.24838815e+00, -7.81125820e-01],\n",
       "       [-9.52609228e-02,  1.52395703e-01],\n",
       "       [-1.01776270e+00,  1.39709107e+00],\n",
       "       [-2.10573645e-01, -8.00574185e-01],\n",
       "       [-9.52609228e-02, -5.28297074e-01],\n",
       "       [-6.71824534e-01,  2.69085893e-01],\n",
       "       [-6.71824534e-01,  9.49778670e-01],\n",
       "       [-3.83542728e-01,  1.22205578e+00],\n",
       "       [-7.87137256e-01, -1.17009312e+00],\n",
       "       [-9.52609228e-02,  1.33874597e+00],\n",
       "       [-6.71824534e-01,  9.49778670e-01],\n",
       "       [ 1.35364522e-01, -8.20022550e-01],\n",
       "       [-2.10573645e-01,  1.10536559e+00],\n",
       "       [-6.71824534e-01, -1.13119639e+00],\n",
       "       [-6.71824534e-01,  2.30189163e-01],\n",
       "       [-6.71824534e-01, -1.73409571e+00],\n",
       "       [-9.52609228e-02,  1.63047145e+00],\n",
       "       [-9.52609228e-02, -3.19121780e-03],\n",
       "       [-6.71824534e-01, -3.19121780e-03],\n",
       "       [ 1.93020883e-01,  7.46022424e-02],\n",
       "       [-9.52609228e-02, -8.20022550e-01],\n",
       "       [ 1.63442991e+00,  2.21392240e+00],\n",
       "       [ 2.21099352e+00, -3.72710154e-01],\n",
       "       [-6.71824534e-01, -7.22780725e-01],\n",
       "       [-2.17088992e+00, -9.17264375e-01],\n",
       "       [-1.52917284e-01, -9.75609471e-01],\n",
       "       [-9.52609228e-02,  1.32947338e-01],\n",
       "       [-6.71824534e-01, -6.83883995e-01],\n",
       "       [ 4.81302689e-01, -9.95057836e-01],\n",
       "       [-7.87137256e-01, -1.24788658e+00],\n",
       "       [-9.52609228e-02, -2.94916694e-01],\n",
       "       [ 1.93020883e-01,  7.46022424e-02],\n",
       "       [-1.82495176e+00, -2.36571598e-01],\n",
       "       [-2.10573645e-01,  1.20260742e+00],\n",
       "       [ 4.81302689e-01, -9.17264375e-01],\n",
       "       [ 1.05786630e+00, -1.52016369e+00],\n",
       "       [-9.60106340e-01,  2.69085893e-01],\n",
       "       [ 1.05786630e+00,  7.16398289e-01],\n",
       "       [ 2.00517995e-02,  1.62571473e-02],\n",
       "       [ 3.65989966e-01, -1.22843822e+00],\n",
       "       [ 4.81302689e-01, -1.18954149e+00],\n",
       "       [-6.71824534e-01, -3.19121780e-03],\n",
       "       [-2.10573645e-01,  3.27430988e-01],\n",
       "       [-6.71824534e-01,  2.69085893e-01],\n",
       "       [ 4.81302689e-01, -1.15064476e+00],\n",
       "       [ 2.00517995e-02,  1.62571473e-02],\n",
       "       [-9.52609228e-02,  1.32947338e-01],\n",
       "       [-9.52609228e-02, -1.28678331e+00],\n",
       "       [ 7.69584494e-01,  1.18315905e+00],\n",
       "       [-3.83542728e-01, -6.44987265e-01],\n",
       "       [ 4.81302689e-01, -6.83883995e-01],\n",
       "       [-1.76729540e+00, -9.56161105e-01],\n",
       "       [ 5.96615411e-01, -1.34512841e+00],\n",
       "       [-6.71824534e-01, -1.50071533e+00],\n",
       "       [ 3.65989966e-01, -4.50503614e-01],\n",
       "       [-9.52609228e-02, -7.81125820e-01],\n",
       "       [ 1.63442991e+00, -3.53261789e-01],\n",
       "       [ 2.00517995e-02, -7.61677455e-01],\n",
       "       [-1.24838815e+00,  1.72771327e+00],\n",
       "       [ 3.65989966e-01, -2.36571598e-01],\n",
       "       [-1.13307542e+00,  7.46022424e-02],\n",
       "       [-3.83542728e-01,  1.12481396e+00],\n",
       "       [-1.53666995e+00, -9.36712740e-01],\n",
       "       [ 2.21099352e+00,  8.13640115e-01],\n",
       "       [ 7.69584494e-01, -2.56019964e-01],\n",
       "       [ 1.93020883e-01,  1.13498973e-01],\n",
       "       [ 4.81302689e-01,  4.24672813e-01],\n",
       "       [ 1.93020883e-01,  1.12481396e+00],\n",
       "       [-9.52609228e-02, -2.94916694e-01],\n",
       "       [ 1.63442991e+00, -2.36571598e-01],\n",
       "       [-9.52609228e-02, -9.56161105e-01],\n",
       "       [ 3.94068436e+00,  8.13640115e-01],\n",
       "       [ 1.05786630e+00,  5.80259734e-01],\n",
       "       [ 1.63442991e+00,  4.44121178e-01],\n",
       "       [ 1.17317902e+00,  1.00812377e+00],\n",
       "       [-7.87137256e-01, -1.17009312e+00],\n",
       "       [ 3.47943347e+00,  7.16398289e-01],\n",
       "       [-1.24838815e+00, -1.38402514e+00],\n",
       "       [-1.82495176e+00, -4.69951979e-01],\n",
       "       [-6.71824534e-01, -1.19881408e-01],\n",
       "       [-6.71824534e-01, -9.36712740e-01],\n",
       "       [-2.17088992e+00, -3.72710154e-01],\n",
       "       [ 4.81302689e-01,  3.32247921e+00],\n",
       "       [ 4.81302689e-01,  1.52395703e-01],\n",
       "       [-3.25886367e-01,  1.16371069e+00],\n",
       "       [ 1.35364522e-01,  4.83017909e-01],\n",
       "       [ 7.69584494e-01, -1.40347350e+00],\n",
       "       [ 4.81302689e-01, -1.05340293e+00],\n",
       "       [-3.83542728e-01,  1.12481396e+00],\n",
       "       [ 4.81302689e-01, -1.00433043e-01],\n",
       "       [ 1.63442991e+00,  5.21914639e-01],\n",
       "       [-6.71824534e-01,  2.30189163e-01],\n",
       "       [ 1.63442991e+00, -1.59795715e+00],\n",
       "       [ 1.05786630e+00,  5.80259734e-01],\n",
       "       [ 4.81302689e-01, -1.39329773e-01],\n",
       "       [ 2.78755713e+00,  1.53322962e+00],\n",
       "       [-6.71824534e-01,  9.49778670e-01],\n",
       "       [-1.36370087e+00,  1.22205578e+00],\n",
       "       [-2.10573645e-01, -8.00574185e-01],\n",
       "       [ 5.96615411e-01, -1.34512841e+00],\n",
       "       [-6.71824534e-01, -1.03395457e+00],\n",
       "       [-6.71824534e-01, -1.34512841e+00],\n",
       "       [ 4.81302689e-01, -6.83883995e-01],\n",
       "       [-1.76729540e+00, -9.56161105e-01],\n",
       "       [-9.52609228e-02, -4.89400344e-01],\n",
       "       [-1.24838815e+00, -1.53961206e+00],\n",
       "       [ 2.44161897e+00,  5.51538774e-02],\n",
       "       [-1.53666995e+00, -8.20022550e-01],\n",
       "       [ 4.81302689e-01, -8.39470915e-01],\n",
       "       [-1.24838815e+00, -8.78367645e-01],\n",
       "       [-4.41199090e-01,  2.88534258e-01],\n",
       "       [-5.56511812e-01, -4.69951979e-01],\n",
       "       [ 4.81302689e-01,  1.02757213e+00],\n",
       "       [-3.83542728e-01,  1.04702050e+00],\n",
       "       [ 4.81302689e-01, -9.95057836e-01],\n",
       "       [ 1.63442991e+00, -3.19121780e-03],\n",
       "       [-9.52609228e-02,  7.46022424e-02],\n",
       "       [ 2.78755713e+00,  1.57212635e+00],\n",
       "       [-9.52609228e-02,  1.14426232e+00],\n",
       "       [-6.71824534e-01,  6.77501559e-01],\n",
       "       [-1.82495176e+00,  3.57055123e-02],\n",
       "       [-6.71824534e-01, -1.50071533e+00],\n",
       "       [-1.36370087e+00, -6.15363130e-02],\n",
       "       [ 1.17317902e+00, -4.50503614e-01],\n",
       "       [ 1.17317902e+00,  5.41363004e-01],\n",
       "       [ 4.81302689e-01, -2.56019964e-01],\n",
       "       [-1.53666995e+00, -9.36712740e-01],\n",
       "       [-9.52609228e-02,  7.16398289e-01],\n",
       "       [ 2.00517995e-02,  1.62571473e-02],\n",
       "       [-7.87137256e-01, -1.24788658e+00],\n",
       "       [-7.87137256e-01, -1.24788658e+00],\n",
       "       [-1.13307542e+00, -6.64435630e-01],\n",
       "       [-6.71824534e-01, -1.34512841e+00],\n",
       "       [ 1.35364522e-01, -2.36571598e-01],\n",
       "       [-4.41199090e-01,  5.41363004e-01],\n",
       "       [-1.24838815e+00, -2.17123233e-01],\n",
       "       [-6.71824534e-01, -5.28297074e-01],\n",
       "       [-6.71824534e-01,  1.82495510e+00],\n",
       "       [-1.36370087e+00, -6.15363130e-02],\n",
       "       [-5.56511812e-01,  7.74743384e-01],\n",
       "       [-2.17088992e+00, -9.17264375e-01],\n",
       "       [ 3.65989966e-01, -1.22843822e+00],\n",
       "       [-9.52609228e-02, -4.89400344e-01],\n",
       "       [-9.52609228e-02,  4.44121178e-01],\n",
       "       [-6.71824534e-01, -3.33813424e-01],\n",
       "       [-9.52609228e-02,  1.10536559e+00],\n",
       "       [-4.41199090e-01,  1.71844068e-01],\n",
       "       [-9.60106340e-01,  6.18138887e+00],\n",
       "       [-6.71824534e-01, -1.13119639e+00],\n",
       "       [ 1.93020883e-01,  1.12481396e+00],\n",
       "       [-1.24838815e+00, -2.17123233e-01],\n",
       "       [-4.41199090e-01,  2.88534258e-01],\n",
       "       [-7.87137256e-01,  5.99708099e-01],\n",
       "       [-4.41199090e-01,  3.85776083e-01]])"
      ]
     },
     "execution_count": 36,
     "metadata": {},
     "output_type": "execute_result"
    }
   ],
   "source": [
    "X_test"
   ]
  },
  {
   "cell_type": "code",
   "execution_count": 37,
   "metadata": {},
   "outputs": [],
   "source": [
    "#fit Decision Tree to training set\n",
    "from sklearn.tree import DecisionTreeClassifier"
   ]
  },
  {
   "cell_type": "code",
   "execution_count": 49,
   "metadata": {},
   "outputs": [],
   "source": [
    "classifier = DecisionTreeClassifier()"
   ]
  },
  {
   "cell_type": "code",
   "execution_count": 50,
   "metadata": {},
   "outputs": [
    {
     "data": {
      "text/plain": [
       "DecisionTreeClassifier(class_weight=None, criterion='gini', max_depth=None,\n",
       "                       max_features=None, max_leaf_nodes=None,\n",
       "                       min_impurity_decrease=0.0, min_impurity_split=None,\n",
       "                       min_samples_leaf=1, min_samples_split=2,\n",
       "                       min_weight_fraction_leaf=0.0, presort=False,\n",
       "                       random_state=None, splitter='best')"
      ]
     },
     "execution_count": 50,
     "metadata": {},
     "output_type": "execute_result"
    }
   ],
   "source": [
    "classifier.fit(X_train,y_train)"
   ]
  },
  {
   "cell_type": "code",
   "execution_count": 51,
   "metadata": {},
   "outputs": [],
   "source": [
    "y_pred = classifier.predict(X_test)"
   ]
  },
  {
   "cell_type": "code",
   "execution_count": 52,
   "metadata": {},
   "outputs": [
    {
     "data": {
      "text/plain": [
       "array([0, 1, 1, 1, 0, 1, 1, 1, 0, 1, 0, 1, 0, 1, 1, 1, 0, 1, 0, 1, 1, 0,\n",
       "       0, 1, 0, 1, 0, 1, 1, 1, 1, 1, 1, 1, 0, 0, 0, 0, 0, 1, 1, 1, 1, 0,\n",
       "       1, 1, 1, 1, 1, 1, 0, 1, 1, 1, 0, 1, 1, 0, 0, 0, 1, 0, 1, 1, 0, 1,\n",
       "       1, 1, 0, 1, 1, 1, 0, 1, 0, 0, 0, 0, 0, 0, 1, 0, 0, 1, 0, 1, 1, 1,\n",
       "       0, 0, 0, 0, 0, 1, 0, 1, 0, 1, 1, 1, 0, 1, 0, 1, 1, 0, 1, 0, 1, 1,\n",
       "       1, 1, 1, 1, 1, 1, 1, 1, 1, 1, 1, 0, 1, 1, 1, 1, 1, 0, 1, 0, 0, 1,\n",
       "       0, 0, 0, 1, 1, 0, 1, 1, 1, 1, 0, 1, 0, 1, 1, 0, 1, 1, 0, 1, 0, 1,\n",
       "       1, 0, 1, 1, 1, 1, 0, 0, 0, 1, 1, 0, 1, 1, 1, 0, 1, 1, 0, 1, 1, 0,\n",
       "       1, 0, 0, 0, 1, 0, 0, 1, 1, 1, 1, 0, 1, 1, 0, 1, 1, 1, 0, 0, 1, 0,\n",
       "       1, 0, 1, 0, 0, 1, 0, 1, 0, 0, 0, 1, 0, 0, 0, 0, 0, 1, 0, 0, 1, 1,\n",
       "       0, 0, 0, 0, 1, 1, 1, 0, 0, 1, 1, 1, 1, 0, 1, 1, 1, 0, 1, 1, 0, 1,\n",
       "       0], dtype=int64)"
      ]
     },
     "execution_count": 52,
     "metadata": {},
     "output_type": "execute_result"
    }
   ],
   "source": [
    "y_pred"
   ]
  },
  {
   "cell_type": "code",
   "execution_count": 53,
   "metadata": {},
   "outputs": [],
   "source": [
    "# confusion matrix\n",
    "from sklearn.metrics import confusion_matrix"
   ]
  },
  {
   "cell_type": "code",
   "execution_count": 54,
   "metadata": {},
   "outputs": [],
   "source": [
    "confusion_mx = confusion_matrix(y_test,y_pred)"
   ]
  },
  {
   "cell_type": "code",
   "execution_count": 55,
   "metadata": {},
   "outputs": [
    {
     "data": {
      "text/plain": [
       "array([[ 97,   5],\n",
       "       [  4, 137]], dtype=int64)"
      ]
     },
     "execution_count": 55,
     "metadata": {},
     "output_type": "execute_result"
    }
   ],
   "source": [
    "confusion_mx"
   ]
  },
  {
   "cell_type": "markdown",
   "metadata": {},
   "source": [
    "True  positive  97\n",
    "False positive  5\n",
    "False negative  4\n",
    "True  negative  137\n",
    "\n",
    "The are 234 correct predictions and 9 incorrect predictions"
   ]
  },
  {
   "cell_type": "code",
   "execution_count": 56,
   "metadata": {},
   "outputs": [
    {
     "data": {
      "text/plain": [
       "0.9629629629629629"
      ]
     },
     "execution_count": 56,
     "metadata": {},
     "output_type": "execute_result"
    }
   ],
   "source": [
    "classifier.score(X_test,y_test)"
   ]
  },
  {
   "cell_type": "markdown",
   "metadata": {},
   "source": [
    "This is the accuracy of the predictor.  Very high accuracy"
   ]
  },
  {
   "cell_type": "code",
   "execution_count": 57,
   "metadata": {},
   "outputs": [
    {
     "name": "stdout",
     "output_type": "stream",
     "text": [
      "Predicted class [[0 0 0 ... 0 0 0]], real class [1 1 1 ... 0 0 0]\n",
      "Probabilities for each class from 0 to 2: [[1. 0. 1. ... 0. 1. 0.]]\n"
     ]
    }
   ],
   "source": [
    "print( 'Predicted class %s, real class %s' % (classifier.predict(X).reshape(1,-1), y ))\n",
    "print( 'Probabilities for each class from 0 to 2: %s' % (classifier.predict_proba(X).reshape(1,-1)))"
   ]
  },
  {
   "cell_type": "code",
   "execution_count": 58,
   "metadata": {},
   "outputs": [
    {
     "data": {
      "text/plain": [
       "array([[1.        , 0.        ],\n",
       "       [0.        , 1.        ],\n",
       "       [0.        , 1.        ],\n",
       "       [0.        , 1.        ],\n",
       "       [1.        , 0.        ],\n",
       "       [0.        , 1.        ],\n",
       "       [0.        , 1.        ],\n",
       "       [0.        , 1.        ],\n",
       "       [1.        , 0.        ],\n",
       "       [0.33333333, 0.66666667],\n",
       "       [1.        , 0.        ],\n",
       "       [0.        , 1.        ],\n",
       "       [1.        , 0.        ],\n",
       "       [0.        , 1.        ],\n",
       "       [0.        , 1.        ],\n",
       "       [0.        , 1.        ],\n",
       "       [1.        , 0.        ],\n",
       "       [0.        , 1.        ],\n",
       "       [1.        , 0.        ],\n",
       "       [0.        , 1.        ],\n",
       "       [0.        , 1.        ],\n",
       "       [1.        , 0.        ],\n",
       "       [1.        , 0.        ],\n",
       "       [0.        , 1.        ],\n",
       "       [1.        , 0.        ],\n",
       "       [0.        , 1.        ],\n",
       "       [1.        , 0.        ],\n",
       "       [0.33333333, 0.66666667],\n",
       "       [0.        , 1.        ],\n",
       "       [0.        , 1.        ],\n",
       "       [0.        , 1.        ],\n",
       "       [0.        , 1.        ],\n",
       "       [0.        , 1.        ],\n",
       "       [0.        , 1.        ],\n",
       "       [1.        , 0.        ],\n",
       "       [1.        , 0.        ],\n",
       "       [1.        , 0.        ],\n",
       "       [1.        , 0.        ],\n",
       "       [1.        , 0.        ],\n",
       "       [0.        , 1.        ],\n",
       "       [0.        , 1.        ],\n",
       "       [0.        , 1.        ],\n",
       "       [0.        , 1.        ],\n",
       "       [1.        , 0.        ],\n",
       "       [0.        , 1.        ],\n",
       "       [0.25      , 0.75      ],\n",
       "       [0.        , 1.        ],\n",
       "       [0.        , 1.        ],\n",
       "       [0.        , 1.        ],\n",
       "       [0.        , 1.        ],\n",
       "       [1.        , 0.        ],\n",
       "       [0.25      , 0.75      ],\n",
       "       [0.        , 1.        ],\n",
       "       [0.        , 1.        ],\n",
       "       [1.        , 0.        ],\n",
       "       [0.        , 1.        ],\n",
       "       [0.        , 1.        ],\n",
       "       [1.        , 0.        ],\n",
       "       [0.57142857, 0.42857143],\n",
       "       [1.        , 0.        ],\n",
       "       [0.        , 1.        ],\n",
       "       [1.        , 0.        ],\n",
       "       [0.        , 1.        ],\n",
       "       [0.        , 1.        ],\n",
       "       [1.        , 0.        ],\n",
       "       [0.        , 1.        ],\n",
       "       [0.        , 1.        ],\n",
       "       [0.        , 1.        ],\n",
       "       [0.6       , 0.4       ],\n",
       "       [0.        , 1.        ],\n",
       "       [0.        , 1.        ],\n",
       "       [0.        , 1.        ],\n",
       "       [1.        , 0.        ],\n",
       "       [0.        , 1.        ],\n",
       "       [1.        , 0.        ],\n",
       "       [1.        , 0.        ],\n",
       "       [1.        , 0.        ],\n",
       "       [1.        , 0.        ],\n",
       "       [1.        , 0.        ],\n",
       "       [1.        , 0.        ],\n",
       "       [0.        , 1.        ],\n",
       "       [1.        , 0.        ],\n",
       "       [1.        , 0.        ],\n",
       "       [0.        , 1.        ],\n",
       "       [1.        , 0.        ],\n",
       "       [0.        , 1.        ],\n",
       "       [0.        , 1.        ],\n",
       "       [0.        , 1.        ],\n",
       "       [1.        , 0.        ],\n",
       "       [1.        , 0.        ],\n",
       "       [1.        , 0.        ],\n",
       "       [1.        , 0.        ],\n",
       "       [0.6       , 0.4       ],\n",
       "       [0.        , 1.        ],\n",
       "       [1.        , 0.        ],\n",
       "       [0.        , 1.        ],\n",
       "       [1.        , 0.        ],\n",
       "       [0.        , 1.        ],\n",
       "       [0.        , 1.        ],\n",
       "       [0.        , 1.        ],\n",
       "       [1.        , 0.        ],\n",
       "       [0.        , 1.        ],\n",
       "       [1.        , 0.        ],\n",
       "       [0.        , 1.        ],\n",
       "       [0.        , 1.        ],\n",
       "       [1.        , 0.        ],\n",
       "       [0.        , 1.        ],\n",
       "       [1.        , 0.        ],\n",
       "       [0.        , 1.        ],\n",
       "       [0.        , 1.        ],\n",
       "       [0.        , 1.        ],\n",
       "       [0.        , 1.        ],\n",
       "       [0.        , 1.        ],\n",
       "       [0.        , 1.        ],\n",
       "       [0.        , 1.        ],\n",
       "       [0.25      , 0.75      ],\n",
       "       [0.        , 1.        ],\n",
       "       [0.        , 1.        ],\n",
       "       [0.        , 1.        ],\n",
       "       [0.        , 1.        ],\n",
       "       [0.        , 1.        ],\n",
       "       [1.        , 0.        ],\n",
       "       [0.        , 1.        ],\n",
       "       [0.        , 1.        ],\n",
       "       [0.        , 1.        ],\n",
       "       [0.        , 1.        ],\n",
       "       [0.        , 1.        ],\n",
       "       [1.        , 0.        ],\n",
       "       [0.        , 1.        ],\n",
       "       [1.        , 0.        ],\n",
       "       [1.        , 0.        ],\n",
       "       [0.        , 1.        ],\n",
       "       [1.        , 0.        ],\n",
       "       [1.        , 0.        ],\n",
       "       [1.        , 0.        ],\n",
       "       [0.25      , 0.75      ],\n",
       "       [0.        , 1.        ],\n",
       "       [1.        , 0.        ],\n",
       "       [0.        , 1.        ],\n",
       "       [0.        , 1.        ],\n",
       "       [0.        , 1.        ],\n",
       "       [0.        , 1.        ],\n",
       "       [1.        , 0.        ],\n",
       "       [0.        , 1.        ],\n",
       "       [1.        , 0.        ],\n",
       "       [0.        , 1.        ],\n",
       "       [0.        , 1.        ],\n",
       "       [1.        , 0.        ],\n",
       "       [0.        , 1.        ],\n",
       "       [0.        , 1.        ],\n",
       "       [1.        , 0.        ],\n",
       "       [0.        , 1.        ],\n",
       "       [1.        , 0.        ],\n",
       "       [0.        , 1.        ],\n",
       "       [0.        , 1.        ],\n",
       "       [1.        , 0.        ],\n",
       "       [0.        , 1.        ],\n",
       "       [0.        , 1.        ],\n",
       "       [0.        , 1.        ],\n",
       "       [0.        , 1.        ],\n",
       "       [1.        , 0.        ],\n",
       "       [1.        , 0.        ],\n",
       "       [1.        , 0.        ],\n",
       "       [0.        , 1.        ],\n",
       "       [0.        , 1.        ],\n",
       "       [1.        , 0.        ],\n",
       "       [0.        , 1.        ],\n",
       "       [0.        , 1.        ],\n",
       "       [0.        , 1.        ],\n",
       "       [1.        , 0.        ],\n",
       "       [0.        , 1.        ],\n",
       "       [0.        , 1.        ],\n",
       "       [1.        , 0.        ],\n",
       "       [0.        , 1.        ],\n",
       "       [0.        , 1.        ],\n",
       "       [1.        , 0.        ],\n",
       "       [0.        , 1.        ],\n",
       "       [1.        , 0.        ],\n",
       "       [1.        , 0.        ],\n",
       "       [1.        , 0.        ],\n",
       "       [0.        , 1.        ],\n",
       "       [1.        , 0.        ],\n",
       "       [1.        , 0.        ],\n",
       "       [0.        , 1.        ],\n",
       "       [0.        , 1.        ],\n",
       "       [0.        , 1.        ],\n",
       "       [0.        , 1.        ],\n",
       "       [0.6       , 0.4       ],\n",
       "       [0.        , 1.        ],\n",
       "       [0.        , 1.        ],\n",
       "       [0.5       , 0.5       ],\n",
       "       [0.        , 1.        ],\n",
       "       [0.        , 1.        ],\n",
       "       [0.        , 1.        ],\n",
       "       [1.        , 0.        ],\n",
       "       [1.        , 0.        ],\n",
       "       [0.        , 1.        ],\n",
       "       [1.        , 0.        ],\n",
       "       [0.        , 1.        ],\n",
       "       [1.        , 0.        ],\n",
       "       [0.        , 1.        ],\n",
       "       [1.        , 0.        ],\n",
       "       [1.        , 0.        ],\n",
       "       [0.        , 1.        ],\n",
       "       [1.        , 0.        ],\n",
       "       [0.        , 1.        ],\n",
       "       [1.        , 0.        ],\n",
       "       [1.        , 0.        ],\n",
       "       [1.        , 0.        ],\n",
       "       [0.        , 1.        ],\n",
       "       [1.        , 0.        ],\n",
       "       [1.        , 0.        ],\n",
       "       [1.        , 0.        ],\n",
       "       [1.        , 0.        ],\n",
       "       [1.        , 0.        ],\n",
       "       [0.        , 1.        ],\n",
       "       [1.        , 0.        ],\n",
       "       [1.        , 0.        ],\n",
       "       [0.        , 1.        ],\n",
       "       [0.        , 1.        ],\n",
       "       [1.        , 0.        ],\n",
       "       [0.5       , 0.5       ],\n",
       "       [1.        , 0.        ],\n",
       "       [1.        , 0.        ],\n",
       "       [0.        , 1.        ],\n",
       "       [0.        , 1.        ],\n",
       "       [0.        , 1.        ],\n",
       "       [1.        , 0.        ],\n",
       "       [1.        , 0.        ],\n",
       "       [0.        , 1.        ],\n",
       "       [0.        , 1.        ],\n",
       "       [0.        , 1.        ],\n",
       "       [0.        , 1.        ],\n",
       "       [1.        , 0.        ],\n",
       "       [0.        , 1.        ],\n",
       "       [0.        , 1.        ],\n",
       "       [0.        , 1.        ],\n",
       "       [1.        , 0.        ],\n",
       "       [0.        , 1.        ],\n",
       "       [0.        , 1.        ],\n",
       "       [1.        , 0.        ],\n",
       "       [0.        , 1.        ],\n",
       "       [1.        , 0.        ]])"
      ]
     },
     "execution_count": 58,
     "metadata": {},
     "output_type": "execute_result"
    }
   ],
   "source": [
    "# The Probability of heart_disease for each data points\n",
    "\n",
    "classifier.predict_proba(X_test )\n"
   ]
  },
  {
   "cell_type": "markdown",
   "metadata": {},
   "source": [
    "The right column is the probablity of not having heart_disease and the left column is the probablity of having heart_disease"
   ]
  },
  {
   "cell_type": "code",
   "execution_count": 59,
   "metadata": {},
   "outputs": [
    {
     "name": "stdout",
     "output_type": "stream",
     "text": [
      "One vs rest accuracy: 0.963\n",
      "One vs one accuracy: 0.971\n"
     ]
    }
   ],
   "source": [
    "from sklearn.multiclass import OneVsRestClassifier, OneVsOneClassifier\n",
    "OVR = OneVsRestClassifier(classifier).fit(X_train,y_train)\n",
    "OVO = OneVsOneClassifier(classifier).fit(X_train,y_train)\n",
    "print( 'One vs rest accuracy: %.3f' % OVR.score(X_test,y_test) )\n",
    "print( 'One vs one accuracy: %.3f' % OVO.score(X_test,y_test) )"
   ]
  },
  {
   "cell_type": "code",
   "execution_count": 60,
   "metadata": {},
   "outputs": [],
   "source": [
    "from sklearn import tree\n",
    "from sklearn.tree import DecisionTreeClassifier, plot_tree"
   ]
  },
  {
   "cell_type": "code",
   "execution_count": 62,
   "metadata": {},
   "outputs": [],
   "source": [
    "# Parameters\n",
    "n_classes = 2\n",
    "plot_colors = \"rg\"\n",
    "plot_step = 0.02"
   ]
  },
  {
   "cell_type": "code",
   "execution_count": 63,
   "metadata": {},
   "outputs": [],
   "source": [
    "for pairidx, pair in enumerate([[0, 1], [0, 2], [0, 3],\n",
    "                                [1, 2], [1, 3], [2, 3]]):\n",
    "    \n",
    "    X = X_train\n",
    "    y = y_train"
   ]
  },
  {
   "cell_type": "code",
   "execution_count": 64,
   "metadata": {},
   "outputs": [
    {
     "data": {
      "image/png": "[encoded data removed]",
      "text/plain": [
       "<Figure size 432x288 with 1 Axes>"
      ]
     },
     "metadata": {
      "needs_background": "light"
     },
     "output_type": "display_data"
    }
   ],
   "source": [
    "    \n",
    "    x_min, x_max = X[:, 0].min() - 1, X[:, 0].max() + 1\n",
    "    y_min, y_max = X[:, 1].min() - 1, X[:, 1].max() + 1\n",
    "    xx, yy = np.meshgrid(np.arange(x_min, x_max, plot_step),\n",
    "                         np.arange(y_min, y_max, plot_step))\n",
    "    plt.tight_layout(h_pad=0.5, w_pad=0.5, pad=2.5)\n",
    "    \n",
    "    Z = classifier.predict(np.c_[xx.ravel(), yy.ravel()])\n",
    "    Z = Z.reshape(xx.shape)\n",
    "    cs = plt.contourf(xx, yy, Z, cmap=plt.cm.RdYlBu)\n",
    "        # Plot the training points\n",
    "    for i, color in zip(range(n_classes), plot_colors):\n",
    "        idx = np.where(y == i)\n",
    "        plt.scatter(X[idx, 0], X[idx, 1], c=color, label=y_train[i],\n",
    "                    cmap=plt.cm.RdYlBu, edgecolor='black', s=15)"
   ]
  },
  {
   "cell_type": "code",
   "execution_count": 65,
   "metadata": {},
   "outputs": [
    {
     "data": {
      "text/plain": [
       "[Text(181.69024390243902, 201.90857142857143, 'X[1] <= -0.11\\nentropy = 0.487\\nsamples = 243\\nvalue = [102, 141]\\nclass = cholesterol'),\n",
       " Text(73.49268292682927, 170.84571428571428, 'X[1] <= -1.394\\nentropy = 0.421\\nsamples = 113\\nvalue = [34, 79]\\nclass = cholesterol'),\n",
       " Text(40.829268292682926, 139.78285714285715, 'X[1] <= -1.51\\nentropy = 0.346\\nsamples = 9\\nvalue = [7, 2]\\nclass = blood pressure'),\n",
       " Text(32.66341463414634, 108.72, 'X[1] <= -1.53\\nentropy = 0.444\\nsamples = 6\\nvalue = [4, 2]\\nclass = blood pressure'),\n",
       " Text(24.49756097560976, 77.65714285714284, 'X[1] <= -1.666\\nentropy = 0.32\\nsamples = 5\\nvalue = [4, 1]\\nclass = blood pressure'),\n",
       " Text(16.33170731707317, 46.59428571428572, 'X[1] <= -1.987\\nentropy = 0.5\\nsamples = 2\\nvalue = [1, 1]\\nclass = blood pressure'),\n",
       " Text(8.165853658536586, 15.531428571428563, '\\n  (...)  \\n'),\n",
       " Text(24.49756097560976, 15.531428571428563, '\\n  (...)  \\n'),\n",
       " Text(32.66341463414634, 46.59428571428572, 'entropy = 0.0\\nsamples = 3\\nvalue = [3, 0]\\nclass = blood pressure'),\n",
       " Text(40.829268292682926, 77.65714285714284, 'entropy = 0.0\\nsamples = 1\\nvalue = [0, 1]\\nclass = cholesterol'),\n",
       " Text(48.99512195121952, 108.72, 'entropy = 0.0\\nsamples = 3\\nvalue = [3, 0]\\nclass = blood pressure'),\n",
       " Text(106.15609756097561, 139.78285714285715, 'X[0] <= -1.364\\nentropy = 0.384\\nsamples = 104\\nvalue = [27, 77]\\nclass = cholesterol'),\n",
       " Text(65.32682926829268, 108.72, 'X[1] <= -0.305\\nentropy = 0.142\\nsamples = 13\\nvalue = [1, 12]\\nclass = cholesterol'),\n",
       " Text(57.1609756097561, 77.65714285714284, 'entropy = 0.0\\nsamples = 11\\nvalue = [0, 11]\\nclass = cholesterol'),\n",
       " Text(73.49268292682927, 77.65714285714284, 'X[1] <= -0.178\\nentropy = 0.5\\nsamples = 2\\nvalue = [1, 1]\\nclass = blood pressure'),\n",
       " Text(65.32682926829268, 46.59428571428572, 'entropy = 0.0\\nsamples = 1\\nvalue = [1, 0]\\nclass = blood pressure'),\n",
       " Text(81.65853658536585, 46.59428571428572, 'entropy = 0.0\\nsamples = 1\\nvalue = [0, 1]\\nclass = cholesterol'),\n",
       " Text(146.98536585365855, 108.72, 'X[1] <= -0.771\\nentropy = 0.408\\nsamples = 91\\nvalue = [26, 65]\\nclass = cholesterol'),\n",
       " Text(114.3219512195122, 77.65714285714284, 'X[1] <= -0.859\\nentropy = 0.461\\nsamples = 50\\nvalue = [18, 32]\\nclass = cholesterol'),\n",
       " Text(97.99024390243903, 46.59428571428572, 'X[0] <= -0.412\\nentropy = 0.399\\nsamples = 40\\nvalue = [11, 29]\\nclass = cholesterol'),\n",
       " Text(89.82439024390244, 15.531428571428563, '\\n  (...)  \\n'),\n",
       " Text(106.15609756097561, 15.531428571428563, '\\n  (...)  \\n'),\n",
       " Text(130.65365853658537, 46.59428571428572, 'X[0] <= 0.02\\nentropy = 0.42\\nsamples = 10\\nvalue = [7, 3]\\nclass = blood pressure'),\n",
       " Text(122.48780487804878, 15.531428571428563, '\\n  (...)  \\n'),\n",
       " Text(138.81951219512194, 15.531428571428563, '\\n  (...)  \\n'),\n",
       " Text(179.64878048780488, 77.65714285714284, 'X[0] <= -0.96\\nentropy = 0.314\\nsamples = 41\\nvalue = [8, 33]\\nclass = cholesterol'),\n",
       " Text(163.3170731707317, 46.59428571428572, 'X[1] <= -0.178\\nentropy = 0.5\\nsamples = 6\\nvalue = [3, 3]\\nclass = blood pressure'),\n",
       " Text(155.15121951219513, 15.531428571428563, '\\n  (...)  \\n'),\n",
       " Text(171.4829268292683, 15.531428571428563, '\\n  (...)  \\n'),\n",
       " Text(195.98048780487807, 46.59428571428572, 'X[0] <= 0.078\\nentropy = 0.245\\nsamples = 35\\nvalue = [5, 30]\\nclass = cholesterol'),\n",
       " Text(187.81463414634146, 15.531428571428563, '\\n  (...)  \\n'),\n",
       " Text(204.14634146341464, 15.531428571428563, '\\n  (...)  \\n'),\n",
       " Text(289.88780487804877, 170.84571428571428, 'X[0] <= 1.779\\nentropy = 0.499\\nsamples = 130\\nvalue = [68, 62]\\nclass = blood pressure'),\n",
       " Text(269.47317073170734, 139.78285714285715, 'X[1] <= 1.776\\nentropy = 0.499\\nsamples = 118\\nvalue = [57, 61]\\nclass = cholesterol'),\n",
       " Text(253.14146341463416, 108.72, 'X[1] <= 1.582\\nentropy = 0.499\\nsamples = 108\\nvalue = [56, 52]\\nclass = blood pressure'),\n",
       " Text(244.97560975609755, 77.65714285714284, 'X[1] <= 0.862\\nentropy = 0.5\\nsamples = 104\\nvalue = [52, 52]\\nclass = blood pressure'),\n",
       " Text(228.6439024390244, 46.59428571428572, 'X[0] <= -0.729\\nentropy = 0.491\\nsamples = 76\\nvalue = [43, 33]\\nclass = blood pressure'),\n",
       " Text(220.4780487804878, 15.531428571428563, '\\n  (...)  \\n'),\n",
       " Text(236.80975609756098, 15.531428571428563, '\\n  (...)  \\n'),\n",
       " Text(261.30731707317074, 46.59428571428572, 'X[1] <= 1.018\\nentropy = 0.436\\nsamples = 28\\nvalue = [9, 19]\\nclass = cholesterol'),\n",
       " Text(253.14146341463416, 15.531428571428563, '\\n  (...)  \\n'),\n",
       " Text(269.47317073170734, 15.531428571428563, '\\n  (...)  \\n'),\n",
       " Text(261.30731707317074, 77.65714285714284, 'entropy = 0.0\\nsamples = 4\\nvalue = [4, 0]\\nclass = blood pressure'),\n",
       " Text(285.8048780487805, 108.72, 'X[1] <= 2.69\\nentropy = 0.18\\nsamples = 10\\nvalue = [1, 9]\\nclass = cholesterol'),\n",
       " Text(277.6390243902439, 77.65714285714284, 'entropy = 0.0\\nsamples = 7\\nvalue = [0, 7]\\nclass = cholesterol'),\n",
       " Text(293.9707317073171, 77.65714285714284, 'X[1] <= 3.245\\nentropy = 0.444\\nsamples = 3\\nvalue = [1, 2]\\nclass = cholesterol'),\n",
       " Text(285.8048780487805, 46.59428571428572, 'entropy = 0.0\\nsamples = 1\\nvalue = [1, 0]\\nclass = blood pressure'),\n",
       " Text(302.13658536585365, 46.59428571428572, 'entropy = 0.0\\nsamples = 2\\nvalue = [0, 2]\\nclass = cholesterol'),\n",
       " Text(310.30243902439025, 139.78285714285715, 'X[1] <= 1.183\\nentropy = 0.153\\nsamples = 12\\nvalue = [11, 1]\\nclass = blood pressure'),\n",
       " Text(302.13658536585365, 108.72, 'entropy = 0.0\\nsamples = 9\\nvalue = [9, 0]\\nclass = blood pressure'),\n",
       " Text(318.46829268292686, 108.72, 'X[1] <= 1.543\\nentropy = 0.444\\nsamples = 3\\nvalue = [2, 1]\\nclass = blood pressure'),\n",
       " Text(310.30243902439025, 77.65714285714284, 'entropy = 0.0\\nsamples = 1\\nvalue = [0, 1]\\nclass = cholesterol'),\n",
       " Text(326.6341463414634, 77.65714285714284, 'entropy = 0.0\\nsamples = 2\\nvalue = [2, 0]\\nclass = blood pressure')]"
      ]
     },
     "execution_count": 65,
     "metadata": {},
     "output_type": "execute_result"
    },
    {
     "data": {
      "image/png": "[encoded data removed]",
      "text/plain": [
       "<Figure size 432x288 with 1 Axes>"
      ]
     },
     "metadata": {
      "needs_background": "light"
     },
     "output_type": "display_data"
    }
   ],
   "source": [
    "tree.plot_tree(classifier.fit(X_test,y_test),max_depth=5,class_names=('blood pressure','cholesterol'),fontsize=3,filled=True)"
   ]
  },
  {
   "cell_type": "code",
   "execution_count": 66,
   "metadata": {},
   "outputs": [],
   "source": [
    "#Visualization\n",
    "import seaborn as sns"
   ]
  },
  {
   "cell_type": "code",
   "execution_count": 30,
   "metadata": {},
   "outputs": [
    {
     "data": {
      "text/plain": [
       "<matplotlib.axes._subplots.AxesSubplot at 0x8bbb5a3198>"
      ]
     },
     "execution_count": 30,
     "metadata": {},
     "output_type": "execute_result"
    },
    {
     "data": {
      "image/png": "[encoded data removed]",
      "text/plain": [
       "<Figure size 432x288 with 1 Axes>"
      ]
     },
     "metadata": {
      "needs_background": "light"
     },
     "output_type": "display_data"
    }
   ],
   "source": [
    "#scatter plot of blood pression vs. cholesterol\n",
    "\n",
    "sns.regplot(heart_disease.trestbps,heart_disease.chol)"
   ]
  },
  {
   "cell_type": "code",
   "execution_count": 67,
   "metadata": {},
   "outputs": [],
   "source": [
    "from matplotlib.colors import ListedColormap"
   ]
  },
  {
   "cell_type": "code",
   "execution_count": 68,
   "metadata": {},
   "outputs": [
    {
     "name": "stderr",
     "output_type": "stream",
     "text": [
      "'c' argument looks like a single numeric RGB or RGBA sequence, which should be avoided as value-mapping will have precedence in case its length matches with 'x' & 'y'.  Please use a 2-D array with a single row if you really want to specify the same RGB or RGBA value for all points.\n",
      "'c' argument looks like a single numeric RGB or RGBA sequence, which should be avoided as value-mapping will have precedence in case its length matches with 'x' & 'y'.  Please use a 2-D array with a single row if you really want to specify the same RGB or RGBA value for all points.\n"
     ]
    },
    {
     "data": {
      "image/png": "[encoded data removed]",
      "text/plain": [
       "<Figure size 432x288 with 1 Axes>"
      ]
     },
     "metadata": {
      "needs_background": "light"
     },
     "output_type": "display_data"
    }
   ],
   "source": [
    "# train dataset\n",
    "X_set, y_set = X_train, y_train\n",
    "X1, X2 = np.meshgrid(np.arange(start = X_set[:, 0].min() - 1, stop = X_set[:, 0].max() + 1, step = 0.01),\n",
    "                     np.arange(start = X_set[:, 1].min() - 1, stop = X_set[:, 1].max() + 1, step = 0.01))\n",
    "plt.contourf(X1, X2, classifier.predict(np.array([X1.ravel(), X2.ravel()]).T).reshape(X1.shape),\n",
    "             alpha = 0.75, cmap = ListedColormap(('red', 'green')))\n",
    "plt.xlim(X1.min(), X1.max())\n",
    "plt.ylim(X2.min(), X2.max())\n",
    "for i, j in enumerate(np.unique(y_set)):\n",
    "    plt.scatter(X_set[y_set == j, 0], X_set[y_set == j, 1],\n",
    "                c = ListedColormap(('red', 'green'))(i), label = j)\n",
    "plt.title('Classifier (Train set)')\n",
    "plt.xlabel('Blood Pressure')\n",
    "plt.ylabel('Cholesterol')\n",
    "plt.legend()\n",
    "plt.show()\n",
    "                     "
   ]
  },
  {
   "cell_type": "markdown",
   "metadata": {},
   "source": [
    "The green dots are the true observed data point and the red dots are the false observed data point\n",
    "The green area is the predicted true area and the red area is the predicted false area"
   ]
  },
  {
   "cell_type": "code",
   "execution_count": 69,
   "metadata": {},
   "outputs": [
    {
     "name": "stderr",
     "output_type": "stream",
     "text": [
      "'c' argument looks like a single numeric RGB or RGBA sequence, which should be avoided as value-mapping will have precedence in case its length matches with 'x' & 'y'.  Please use a 2-D array with a single row if you really want to specify the same RGB or RGBA value for all points.\n",
      "'c' argument looks like a single numeric RGB or RGBA sequence, which should be avoided as value-mapping will have precedence in case its length matches with 'x' & 'y'.  Please use a 2-D array with a single row if you really want to specify the same RGB or RGBA value for all points.\n"
     ]
    },
    {
     "data": {
      "image/png": "[encoded data removed]",
      "text/plain": [
       "<Figure size 432x288 with 1 Axes>"
      ]
     },
     "metadata": {
      "needs_background": "light"
     },
     "output_type": "display_data"
    }
   ],
   "source": [
    "# test dataset\n",
    "X_set, y_set = X_train, y_train\n",
    "X1, X2 = np.meshgrid(np.arange(start = X_set[:, 0].min() - 1, stop = X_set[:, 0].max() + 1, step = 0.01),\n",
    "                     np.arange(start = X_set[:, 1].min() - 1, stop = X_set[:, 1].max() + 1, step = 0.01))\n",
    "plt.contourf(X1, X2, classifier.predict(np.array([X1.ravel(), X2.ravel()]).T).reshape(X1.shape),\n",
    "             alpha = 0.75, cmap = ListedColormap(('red', 'green')))\n",
    "plt.xlim(X1.min(), X1.max())\n",
    "plt.ylim(X2.min(), X2.max())\n",
    "for i, j in enumerate(np.unique(y_set)):\n",
    "    plt.scatter(X_set[y_set == j, 0], X_set[y_set == j, 1],\n",
    "                c = ListedColormap(('red', 'green'))(i), label = j)\n",
    "plt.title('Classifier (Test set)')\n",
    "plt.xlabel('Blood Pressure')\n",
    "plt.ylabel('Cholesterol')\n",
    "plt.legend()\n",
    "plt.show()\n",
    "                     "
   ]
  },
  {
   "cell_type": "markdown",
   "metadata": {},
   "source": [
    "The green dots are the true observed data point and the red dots are the false observed data point\n",
    "The green area is the predicted true area and the red area is the predicted false area"
   ]
  },
  {
   "cell_type": "markdown",
   "metadata": {},
   "source": [
    "The results is to determine base two explanatory variable: blood pressure and cholesterol. There were 234 correct predictions and 9 incorrect predictions and an accuracy of 0.9629629629629629\n"
   ]
  }
 ],
 "metadata": {
  "kernelspec": {
   "display_name": "Python 3",
   "language": "python",
   "name": "python3"
  },
  "language_info": {
   "codemirror_mode": {
    "name": "ipython",
    "version": 3
   },
   "file_extension": ".py",
   "mimetype": "text/x-python",
   "name": "python",
   "nbconvert_exporter": "python",
   "pygments_lexer": "ipython3",
   "version": "3.7.3"
  }
 },
 "nbformat": 4,
 "nbformat_minor": 2
}
