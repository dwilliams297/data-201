{
 "cells": [
  {
   "cell_type": "markdown",
   "metadata": {},
   "source": [
    "# David Williams\n",
    "# Project 4 Decision Tree Classification Data 201\n",
    "\n",
    "The data come from the Kaggle websit and shows 13 factors that contrubute to heart disease.\n",
    "\n",
    "Context\n",
    "This database contains 76 attributes, but all published experiments refer to using a subset of 14 of them. In particular, the Cleveland database is the only one that has been used by ML researchers to this date. The \"goal\" field refers to the presence of heart disease in the patient. It is integer valued from 0 (no presence) to 4.\n"
   ]
  },
  {
   "cell_type": "markdown",
   "metadata": {},
   "source": [
    "# Content\n",
    "\n",
    "Attribute Information:\n",
    "> 1. age\n",
    "> 2. sex\n",
    "> 3. chest pain type (4 values)\n",
    "> 4. resting blood pressure\n",
    "> 5. serum cholestoral in mg/dl\n",
    "> 6. fasting blood sugar > 120 mg/dl\n",
    "> 7. resting electrocardiographic results (values 0,1,2)\n",
    "> 8. maximum heart rate achieved\n",
    "> 9. exercise induced angina\n",
    "> 10. oldpeak = ST depression induced by exercise relative to rest\n",
    "> 11. the slope of the peak exercise ST segment\n",
    "> 12. number of major vessels (0-3) colored by flourosopy\n",
    "> 13. thal: 3 = normal; 6 = fixed defect; 7 = reversable defect\n",
    "\n",
    "The 14th variable is the target and 1 if heart disease and 0 if no heart disease"
   ]
  },
  {
   "cell_type": "code",
   "execution_count": 1,
   "metadata": {},
   "outputs": [],
   "source": [
    "import matplotlib as mpl\n",
    "import matplotlib.pyplot as plt"
   ]
  },
  {
   "cell_type": "code",
   "execution_count": 2,
   "metadata": {},
   "outputs": [],
   "source": [
    "import pandas as pd\n",
    "import scipy.stats\n",
    "from scipy import stats "
   ]
  },
  {
   "cell_type": "code",
   "execution_count": 3,
   "metadata": {},
   "outputs": [],
   "source": [
    "import numpy as np"
   ]
  },
  {
   "cell_type": "code",
   "execution_count": 4,
   "metadata": {},
   "outputs": [],
   "source": [
    "heart_disease=pd.read_csv('C:/Users/dwilliams/Documents/montgomery/data 201/heart.csv')"
   ]
  },
  {
   "cell_type": "code",
   "execution_count": 5,
   "metadata": {},
   "outputs": [
    {
     "data": {
      "text/html": [
       "<div>\n",
       "<style scoped>\n",
       "    .dataframe tbody tr th:only-of-type {\n",
       "        vertical-align: middle;\n",
       "    }\n",
       "\n",
       "    .dataframe tbody tr th {\n",
       "        vertical-align: top;\n",
       "    }\n",
       "\n",
       "    .dataframe thead th {\n",
       "        text-align: right;\n",
       "    }\n",
       "</style>\n",
       "<table border=\"1\" class=\"dataframe\">\n",
       "  <thead>\n",
       "    <tr style=\"text-align: right;\">\n",
       "      <th></th>\n",
       "      <th>age</th>\n",
       "      <th>sex</th>\n",
       "      <th>cp</th>\n",
       "      <th>trestbps</th>\n",
       "      <th>chol</th>\n",
       "      <th>fbs</th>\n",
       "      <th>restecg</th>\n",
       "      <th>thalach</th>\n",
       "      <th>exang</th>\n",
       "      <th>oldpeak</th>\n",
       "      <th>slope</th>\n",
       "      <th>ca</th>\n",
       "      <th>thal</th>\n",
       "      <th>target</th>\n",
       "    </tr>\n",
       "  </thead>\n",
       "  <tbody>\n",
       "    <tr>\n",
       "      <th>0</th>\n",
       "      <td>63</td>\n",
       "      <td>1</td>\n",
       "      <td>3</td>\n",
       "      <td>145</td>\n",
       "      <td>233</td>\n",
       "      <td>1</td>\n",
       "      <td>0</td>\n",
       "      <td>150</td>\n",
       "      <td>0</td>\n",
       "      <td>2.3</td>\n",
       "      <td>0</td>\n",
       "      <td>0</td>\n",
       "      <td>1</td>\n",
       "      <td>1</td>\n",
       "    </tr>\n",
       "    <tr>\n",
       "      <th>1</th>\n",
       "      <td>37</td>\n",
       "      <td>1</td>\n",
       "      <td>2</td>\n",
       "      <td>130</td>\n",
       "      <td>250</td>\n",
       "      <td>0</td>\n",
       "      <td>1</td>\n",
       "      <td>187</td>\n",
       "      <td>0</td>\n",
       "      <td>3.5</td>\n",
       "      <td>0</td>\n",
       "      <td>0</td>\n",
       "      <td>2</td>\n",
       "      <td>1</td>\n",
       "    </tr>\n",
       "    <tr>\n",
       "      <th>2</th>\n",
       "      <td>41</td>\n",
       "      <td>0</td>\n",
       "      <td>1</td>\n",
       "      <td>130</td>\n",
       "      <td>204</td>\n",
       "      <td>0</td>\n",
       "      <td>0</td>\n",
       "      <td>172</td>\n",
       "      <td>0</td>\n",
       "      <td>1.4</td>\n",
       "      <td>2</td>\n",
       "      <td>0</td>\n",
       "      <td>2</td>\n",
       "      <td>1</td>\n",
       "    </tr>\n",
       "  </tbody>\n",
       "</table>\n",
       "</div>"
      ],
      "text/plain": [
       "   age  sex  cp  trestbps  chol  fbs  restecg  thalach  exang  oldpeak  slope  \\\n",
       "0   63    1   3       145   233    1        0      150      0      2.3      0   \n",
       "1   37    1   2       130   250    0        1      187      0      3.5      0   \n",
       "2   41    0   1       130   204    0        0      172      0      1.4      2   \n",
       "\n",
       "   ca  thal  target  \n",
       "0   0     1       1  \n",
       "1   0     2       1  \n",
       "2   0     2       1  "
      ]
     },
     "execution_count": 5,
     "metadata": {},
     "output_type": "execute_result"
    }
   ],
   "source": [
    "heart_disease.head(3)"
   ]
  },
  {
   "cell_type": "code",
   "execution_count": 6,
   "metadata": {},
   "outputs": [
    {
     "data": {
      "text/plain": [
       "(1212, 14)"
      ]
     },
     "execution_count": 6,
     "metadata": {},
     "output_type": "execute_result"
    }
   ],
   "source": [
    "heart_disease.shape"
   ]
  },
  {
   "cell_type": "code",
   "execution_count": 11,
   "metadata": {},
   "outputs": [],
   "source": [
    "# separate the independent variables and dependent variables\n",
    "# The independent variables are: Resting blood pressure, serum cholestoral \n",
    "# The dependent variable is: target heart disease\n",
    "\n",
    "#Using blood pressure and cholestoral to predict heart disease\n",
    "\n",
    "X = heart_disease.iloc[:, [3,4]].values\n",
    "y = heart_disease.iloc[:,13].values\n"
   ]
  },
  {
   "cell_type": "code",
   "execution_count": 7,
   "metadata": {},
   "outputs": [],
   "source": [
    "import sklearn as scikit_learn"
   ]
  },
  {
   "cell_type": "code",
   "execution_count": 8,
   "metadata": {},
   "outputs": [],
   "source": [
    "# Splitting the dataset into the Training set and Test set\n",
    "\n",
    "from sklearn.model_selection import train_test_split"
   ]
  },
  {
   "cell_type": "code",
   "execution_count": 12,
   "metadata": {},
   "outputs": [],
   "source": [
    "# Splitting the dataset into the Training set and Test set\n",
    "\n",
    "X_train, X_test, y_train, y_test = train_test_split(X, y, test_size = 0.2, random_state = 0)"
   ]
  },
  {
   "cell_type": "code",
   "execution_count": 13,
   "metadata": {},
   "outputs": [
    {
     "data": {
      "text/plain": [
       "((969, 2), (969,))"
      ]
     },
     "execution_count": 13,
     "metadata": {},
     "output_type": "execute_result"
    }
   ],
   "source": [
    "X_train.shape,y_train.shape"
   ]
  },
  {
   "cell_type": "code",
   "execution_count": 14,
   "metadata": {},
   "outputs": [
    {
     "data": {
      "text/plain": [
       "((243, 2), (243,))"
      ]
     },
     "execution_count": 14,
     "metadata": {},
     "output_type": "execute_result"
    }
   ],
   "source": [
    "X_test.shape,y_test.shape"
   ]
  },
  {
   "cell_type": "code",
   "execution_count": 15,
   "metadata": {},
   "outputs": [],
   "source": [
    "# Feature Scaling\n",
    "# Feature Scaling was used because of the different values of independent variables\n",
    "from sklearn.preprocessing import StandardScaler\n",
    "sc_X = StandardScaler()\n",
    "X_train = sc_X.fit_transform(X_train)\n",
    "X_test = sc_X.transform(X_test)"
   ]
  },
  {
   "cell_type": "code",
   "execution_count": 16,
   "metadata": {},
   "outputs": [
    {
     "data": {
      "text/plain": [
       "array([[ 0.36598997,  0.9303303 ],\n",
       "       [-0.67182453, -0.11988141],\n",
       "       [-0.38354273, -0.02263958],\n",
       "       ...,\n",
       "       [-0.38354273,  1.22205578],\n",
       "       [-0.21057365,  0.24963753],\n",
       "       [-0.21057365, -0.80057419]])"
      ]
     },
     "execution_count": 16,
     "metadata": {},
     "output_type": "execute_result"
    }
   ],
   "source": [
    "X_train"
   ]
  },
  {
   "cell_type": "code",
   "execution_count": 12,
   "metadata": {},
   "outputs": [
    {
     "data": {
      "text/plain": [
       "array([[120, 267],\n",
       "       [148, 244],\n",
       "       [134, 201],\n",
       "       [128, 208],\n",
       "       [130, 131],\n",
       "       [146, 278],\n",
       "       [118, 277],\n",
       "       [136, 196],\n",
       "       [140, 177],\n",
       "       [150, 243],\n",
       "       [122, 286],\n",
       "       [110, 211],\n",
       "       [150, 258],\n",
       "       [140, 192],\n",
       "       [112, 268],\n",
       "       [134, 271],\n",
       "       [130, 283],\n",
       "       [120, 269],\n",
       "       [165, 289],\n",
       "       [118, 210],\n",
       "       [120, 263],\n",
       "       [136, 315],\n",
       "       [165, 289],\n",
       "       [160, 302],\n",
       "       [108, 269],\n",
       "       [150, 247],\n",
       "       [135, 254],\n",
       "       [150, 243],\n",
       "       [160, 360],\n",
       "       [120, 325],\n",
       "       [105, 240],\n",
       "       [101, 197],\n",
       "       [128, 308],\n",
       "       [110, 265],\n",
       "       [128, 204],\n",
       "       [174, 249],\n",
       "       [140, 217],\n",
       "       [170, 326],\n",
       "       [130, 330],\n",
       "       [140, 308],\n",
       "       [134, 201],\n",
       "       [150, 283],\n",
       "       [132, 342],\n",
       "       [120, 249],\n",
       "       [106, 223],\n",
       "       [130, 253],\n",
       "       [130, 231],\n",
       "       [138, 243],\n",
       "       [138, 271],\n",
       "       [128, 208],\n",
       "       [130, 330],\n",
       "       [130, 253],\n",
       "       [115, 303],\n",
       "       [140, 239],\n",
       "       [150, 270],\n",
       "       [140, 221],\n",
       "       [138, 243],\n",
       "       [145, 282],\n",
       "       [128, 216],\n",
       "       [110, 239],\n",
       "       [130, 303],\n",
       "       [192, 283],\n",
       "       [130, 264],\n",
       "       [130, 197],\n",
       "       [140, 241],\n",
       "       [110, 201],\n",
       "       [138, 175],\n",
       "       [138, 175],\n",
       "       [128, 205],\n",
       "       [170, 227],\n",
       "       [120, 211],\n",
       "       [120, 244],\n",
       "       [120, 198],\n",
       "       [150, 247],\n",
       "       [134, 204],\n",
       "       [134, 409],\n",
       "       [132, 184],\n",
       "       [120, 188],\n",
       "       [128, 259],\n",
       "       [160, 164],\n",
       "       [120, 354],\n",
       "       [170, 288],\n",
       "       [123, 282],\n",
       "       [152, 298],\n",
       "       [110, 239],\n",
       "       [172, 199],\n",
       "       [120, 354],\n",
       "       [132, 342],\n",
       "       [110, 197],\n",
       "       [110, 206],\n",
       "       [130, 254],\n",
       "       [114, 318],\n",
       "       [128, 205],\n",
       "       [130, 219],\n",
       "       [120, 260],\n",
       "       [120, 295],\n",
       "       [125, 309],\n",
       "       [118, 186],\n",
       "       [130, 315],\n",
       "       [120, 295],\n",
       "       [134, 204],\n",
       "       [128, 303],\n",
       "       [120, 188],\n",
       "       [120, 258],\n",
       "       [120, 157],\n",
       "       [130, 330],\n",
       "       [130, 246],\n",
       "       [120, 246],\n",
       "       [135, 250],\n",
       "       [130, 204],\n",
       "       [160, 360],\n",
       "       [170, 227],\n",
       "       [120, 209],\n",
       "       [ 94, 199],\n",
       "       [129, 196],\n",
       "       [130, 253],\n",
       "       [120, 211],\n",
       "       [140, 195],\n",
       "       [118, 182],\n",
       "       [130, 231],\n",
       "       [135, 250],\n",
       "       [100, 234],\n",
       "       [128, 308],\n",
       "       [140, 199],\n",
       "       [150, 168],\n",
       "       [115, 260],\n",
       "       [150, 283],\n",
       "       [132, 247],\n",
       "       [138, 183],\n",
       "       [140, 185],\n",
       "       [120, 246],\n",
       "       [128, 263],\n",
       "       [120, 260],\n",
       "       [140, 187],\n",
       "       [132, 247],\n",
       "       [130, 253],\n",
       "       [130, 180],\n",
       "       [145, 307],\n",
       "       [125, 213],\n",
       "       [140, 211],\n",
       "       [101, 197],\n",
       "       [142, 177],\n",
       "       [120, 169],\n",
       "       [138, 223],\n",
       "       [130, 206],\n",
       "       [160, 228],\n",
       "       [132, 207],\n",
       "       [110, 335],\n",
       "       [138, 234],\n",
       "       [112, 250],\n",
       "       [125, 304],\n",
       "       [105, 198],\n",
       "       [170, 288],\n",
       "       [145, 233],\n",
       "       [135, 252],\n",
       "       [140, 268],\n",
       "       [135, 304],\n",
       "       [130, 231],\n",
       "       [160, 234],\n",
       "       [130, 197],\n",
       "       [200, 288],\n",
       "       [150, 276],\n",
       "       [160, 269],\n",
       "       [152, 298],\n",
       "       [118, 186],\n",
       "       [192, 283],\n",
       "       [110, 175],\n",
       "       [100, 222],\n",
       "       [120, 240],\n",
       "       [120, 198],\n",
       "       [ 94, 227],\n",
       "       [140, 417],\n",
       "       [140, 254],\n",
       "       [126, 306],\n",
       "       [134, 271],\n",
       "       [145, 174],\n",
       "       [140, 192],\n",
       "       [125, 304],\n",
       "       [140, 241],\n",
       "       [160, 273],\n",
       "       [120, 258],\n",
       "       [160, 164],\n",
       "       [150, 276],\n",
       "       [140, 239],\n",
       "       [180, 325],\n",
       "       [120, 295],\n",
       "       [108, 309],\n",
       "       [128, 205],\n",
       "       [142, 177],\n",
       "       [120, 193],\n",
       "       [120, 177],\n",
       "       [140, 211],\n",
       "       [101, 197],\n",
       "       [130, 221],\n",
       "       [110, 167],\n",
       "       [174, 249],\n",
       "       [105, 204],\n",
       "       [140, 203],\n",
       "       [110, 201],\n",
       "       [124, 261],\n",
       "       [122, 222],\n",
       "       [140, 299],\n",
       "       [125, 300],\n",
       "       [140, 195],\n",
       "       [160, 246],\n",
       "       [130, 250],\n",
       "       [180, 327],\n",
       "       [130, 305],\n",
       "       [120, 281],\n",
       "       [100, 248],\n",
       "       [120, 169],\n",
       "       [108, 243],\n",
       "       [152, 223],\n",
       "       [152, 274],\n",
       "       [140, 233],\n",
       "       [105, 198],\n",
       "       [130, 283],\n",
       "       [132, 247],\n",
       "       [118, 182],\n",
       "       [118, 182],\n",
       "       [112, 212],\n",
       "       [120, 177],\n",
       "       [134, 234],\n",
       "       [124, 274],\n",
       "       [110, 235],\n",
       "       [120, 219],\n",
       "       [120, 340],\n",
       "       [108, 243],\n",
       "       [122, 286],\n",
       "       [ 94, 199],\n",
       "       [138, 183],\n",
       "       [130, 221],\n",
       "       [130, 269],\n",
       "       [120, 229],\n",
       "       [130, 303],\n",
       "       [124, 255],\n",
       "       [115, 564],\n",
       "       [120, 188],\n",
       "       [135, 304],\n",
       "       [110, 235],\n",
       "       [124, 261],\n",
       "       [118, 277],\n",
       "       [124, 266]], dtype=int64)"
      ]
     },
     "execution_count": 12,
     "metadata": {},
     "output_type": "execute_result"
    }
   ],
   "source": [
    "X_test"
   ]
  },
  {
   "cell_type": "code",
   "execution_count": 17,
   "metadata": {},
   "outputs": [],
   "source": [
    "#fit Decision Tree to training set\n",
    "from sklearn.tree import DecisionTreeClassifier"
   ]
  },
  {
   "cell_type": "code",
   "execution_count": 18,
   "metadata": {},
   "outputs": [],
   "source": [
    "classifier = DecisionTreeClassifier(criterion=\"entropy\")"
   ]
  },
  {
   "cell_type": "code",
   "execution_count": 19,
   "metadata": {},
   "outputs": [
    {
     "data": {
      "text/plain": [
       "DecisionTreeClassifier(class_weight=None, criterion='entropy', max_depth=None,\n",
       "                       max_features=None, max_leaf_nodes=None,\n",
       "                       min_impurity_decrease=0.0, min_impurity_split=None,\n",
       "                       min_samples_leaf=1, min_samples_split=2,\n",
       "                       min_weight_fraction_leaf=0.0, presort=False,\n",
       "                       random_state=None, splitter='best')"
      ]
     },
     "execution_count": 19,
     "metadata": {},
     "output_type": "execute_result"
    }
   ],
   "source": [
    "classifier.fit(X_train,y_train)"
   ]
  },
  {
   "cell_type": "code",
   "execution_count": 20,
   "metadata": {},
   "outputs": [],
   "source": [
    "y_pred = classifier.predict(X_test)"
   ]
  },
  {
   "cell_type": "code",
   "execution_count": 21,
   "metadata": {},
   "outputs": [
    {
     "data": {
      "text/plain": [
       "array([0, 1, 1, 1, 0, 1, 1, 1, 0, 1, 0, 1, 0, 1, 1, 1, 0, 1, 0, 1, 1, 0,\n",
       "       0, 1, 0, 1, 0, 1, 1, 1, 1, 1, 1, 1, 0, 0, 0, 0, 0, 1, 1, 1, 1, 0,\n",
       "       1, 1, 1, 1, 1, 1, 0, 1, 1, 1, 0, 1, 1, 0, 0, 0, 1, 0, 1, 1, 0, 1,\n",
       "       1, 1, 0, 1, 1, 1, 0, 1, 0, 0, 0, 0, 0, 0, 1, 0, 0, 1, 0, 1, 1, 1,\n",
       "       0, 0, 0, 0, 0, 1, 0, 1, 0, 1, 1, 1, 0, 1, 0, 1, 1, 0, 1, 0, 1, 1,\n",
       "       1, 1, 1, 1, 1, 1, 1, 1, 1, 1, 1, 0, 1, 1, 1, 1, 1, 0, 1, 0, 0, 1,\n",
       "       0, 0, 0, 1, 1, 0, 1, 1, 1, 1, 0, 1, 0, 1, 1, 0, 1, 1, 0, 1, 0, 1,\n",
       "       1, 0, 1, 1, 1, 1, 0, 0, 0, 1, 1, 0, 1, 1, 1, 0, 1, 1, 0, 1, 1, 0,\n",
       "       1, 0, 0, 0, 1, 0, 0, 1, 1, 1, 1, 0, 1, 1, 0, 1, 1, 1, 0, 0, 1, 0,\n",
       "       1, 0, 1, 0, 0, 1, 0, 1, 0, 0, 0, 1, 0, 0, 0, 0, 0, 1, 0, 0, 1, 1,\n",
       "       0, 0, 0, 0, 1, 1, 1, 0, 0, 1, 1, 1, 1, 0, 1, 1, 1, 0, 1, 1, 0, 1,\n",
       "       0], dtype=int64)"
      ]
     },
     "execution_count": 21,
     "metadata": {},
     "output_type": "execute_result"
    }
   ],
   "source": [
    "y_pred"
   ]
  },
  {
   "cell_type": "code",
   "execution_count": 22,
   "metadata": {},
   "outputs": [],
   "source": [
    "# confusion matrix\n",
    "from sklearn.metrics import confusion_matrix"
   ]
  },
  {
   "cell_type": "code",
   "execution_count": 23,
   "metadata": {},
   "outputs": [],
   "source": [
    "confusion_mx = confusion_matrix(y_test,y_pred)"
   ]
  },
  {
   "cell_type": "code",
   "execution_count": 55,
   "metadata": {},
   "outputs": [
    {
     "data": {
      "text/plain": [
       "array([[ 97,   5],\n",
       "       [  4, 137]], dtype=int64)"
      ]
     },
     "execution_count": 55,
     "metadata": {},
     "output_type": "execute_result"
    }
   ],
   "source": [
    "confusion_mx"
   ]
  },
  {
   "cell_type": "markdown",
   "metadata": {},
   "source": [
    "True  positive  97\n",
    "False positive  5\n",
    "False negative  4\n",
    "True  negative  137\n",
    "\n",
    "The are 234 correct predictions and 9 incorrect predictions"
   ]
  },
  {
   "cell_type": "code",
   "execution_count": 24,
   "metadata": {},
   "outputs": [
    {
     "data": {
      "text/plain": [
       "0.9629629629629629"
      ]
     },
     "execution_count": 24,
     "metadata": {},
     "output_type": "execute_result"
    }
   ],
   "source": [
    "classifier.score(X_test,y_test)"
   ]
  },
  {
   "cell_type": "markdown",
   "metadata": {},
   "source": [
    "This is the accuracy of the predictor.  Very high accuracy"
   ]
  },
  {
   "cell_type": "code",
   "execution_count": 25,
   "metadata": {},
   "outputs": [
    {
     "name": "stdout",
     "output_type": "stream",
     "text": [
      "Predicted class [[1 1 1 ... 1 1 1]], real class [1 1 1 ... 0 0 0]\n",
      "Probabilities for each class from 0 to 2: [[0. 1. 0. ... 1. 0. 1.]]\n"
     ]
    }
   ],
   "source": [
    "print( 'Predicted class %s, real class %s' % (classifier.predict(X).reshape(1,-1), y ))\n",
    "print( 'Probabilities for each class from 0 to 2: %s' % (classifier.predict_proba(X).reshape(1,-1)))"
   ]
  },
  {
   "cell_type": "code",
   "execution_count": 26,
   "metadata": {},
   "outputs": [
    {
     "data": {
      "text/plain": [
       "array([[1.        , 0.        ],\n",
       "       [0.        , 1.        ],\n",
       "       [0.        , 1.        ],\n",
       "       [0.        , 1.        ],\n",
       "       [1.        , 0.        ],\n",
       "       [0.        , 1.        ],\n",
       "       [0.        , 1.        ],\n",
       "       [0.        , 1.        ],\n",
       "       [1.        , 0.        ],\n",
       "       [0.33333333, 0.66666667],\n",
       "       [1.        , 0.        ],\n",
       "       [0.        , 1.        ],\n",
       "       [1.        , 0.        ],\n",
       "       [0.        , 1.        ],\n",
       "       [0.        , 1.        ],\n",
       "       [0.        , 1.        ],\n",
       "       [1.        , 0.        ],\n",
       "       [0.        , 1.        ],\n",
       "       [1.        , 0.        ],\n",
       "       [0.        , 1.        ],\n",
       "       [0.        , 1.        ],\n",
       "       [1.        , 0.        ],\n",
       "       [1.        , 0.        ],\n",
       "       [0.        , 1.        ],\n",
       "       [1.        , 0.        ],\n",
       "       [0.        , 1.        ],\n",
       "       [1.        , 0.        ],\n",
       "       [0.33333333, 0.66666667],\n",
       "       [0.        , 1.        ],\n",
       "       [0.        , 1.        ],\n",
       "       [0.        , 1.        ],\n",
       "       [0.        , 1.        ],\n",
       "       [0.        , 1.        ],\n",
       "       [0.        , 1.        ],\n",
       "       [1.        , 0.        ],\n",
       "       [1.        , 0.        ],\n",
       "       [1.        , 0.        ],\n",
       "       [1.        , 0.        ],\n",
       "       [1.        , 0.        ],\n",
       "       [0.        , 1.        ],\n",
       "       [0.        , 1.        ],\n",
       "       [0.        , 1.        ],\n",
       "       [0.        , 1.        ],\n",
       "       [1.        , 0.        ],\n",
       "       [0.        , 1.        ],\n",
       "       [0.25      , 0.75      ],\n",
       "       [0.        , 1.        ],\n",
       "       [0.        , 1.        ],\n",
       "       [0.        , 1.        ],\n",
       "       [0.        , 1.        ],\n",
       "       [1.        , 0.        ],\n",
       "       [0.25      , 0.75      ],\n",
       "       [0.        , 1.        ],\n",
       "       [0.        , 1.        ],\n",
       "       [1.        , 0.        ],\n",
       "       [0.        , 1.        ],\n",
       "       [0.        , 1.        ],\n",
       "       [1.        , 0.        ],\n",
       "       [0.57142857, 0.42857143],\n",
       "       [1.        , 0.        ],\n",
       "       [0.        , 1.        ],\n",
       "       [1.        , 0.        ],\n",
       "       [0.        , 1.        ],\n",
       "       [0.        , 1.        ],\n",
       "       [1.        , 0.        ],\n",
       "       [0.        , 1.        ],\n",
       "       [0.        , 1.        ],\n",
       "       [0.        , 1.        ],\n",
       "       [0.6       , 0.4       ],\n",
       "       [0.        , 1.        ],\n",
       "       [0.        , 1.        ],\n",
       "       [0.        , 1.        ],\n",
       "       [1.        , 0.        ],\n",
       "       [0.        , 1.        ],\n",
       "       [1.        , 0.        ],\n",
       "       [1.        , 0.        ],\n",
       "       [1.        , 0.        ],\n",
       "       [1.        , 0.        ],\n",
       "       [1.        , 0.        ],\n",
       "       [1.        , 0.        ],\n",
       "       [0.        , 1.        ],\n",
       "       [1.        , 0.        ],\n",
       "       [1.        , 0.        ],\n",
       "       [0.        , 1.        ],\n",
       "       [1.        , 0.        ],\n",
       "       [0.        , 1.        ],\n",
       "       [0.        , 1.        ],\n",
       "       [0.        , 1.        ],\n",
       "       [1.        , 0.        ],\n",
       "       [1.        , 0.        ],\n",
       "       [1.        , 0.        ],\n",
       "       [1.        , 0.        ],\n",
       "       [0.6       , 0.4       ],\n",
       "       [0.        , 1.        ],\n",
       "       [1.        , 0.        ],\n",
       "       [0.        , 1.        ],\n",
       "       [1.        , 0.        ],\n",
       "       [0.        , 1.        ],\n",
       "       [0.        , 1.        ],\n",
       "       [0.        , 1.        ],\n",
       "       [1.        , 0.        ],\n",
       "       [0.        , 1.        ],\n",
       "       [1.        , 0.        ],\n",
       "       [0.        , 1.        ],\n",
       "       [0.        , 1.        ],\n",
       "       [1.        , 0.        ],\n",
       "       [0.        , 1.        ],\n",
       "       [1.        , 0.        ],\n",
       "       [0.        , 1.        ],\n",
       "       [0.        , 1.        ],\n",
       "       [0.        , 1.        ],\n",
       "       [0.        , 1.        ],\n",
       "       [0.        , 1.        ],\n",
       "       [0.        , 1.        ],\n",
       "       [0.        , 1.        ],\n",
       "       [0.25      , 0.75      ],\n",
       "       [0.        , 1.        ],\n",
       "       [0.        , 1.        ],\n",
       "       [0.        , 1.        ],\n",
       "       [0.        , 1.        ],\n",
       "       [0.        , 1.        ],\n",
       "       [1.        , 0.        ],\n",
       "       [0.        , 1.        ],\n",
       "       [0.        , 1.        ],\n",
       "       [0.        , 1.        ],\n",
       "       [0.        , 1.        ],\n",
       "       [0.        , 1.        ],\n",
       "       [1.        , 0.        ],\n",
       "       [0.        , 1.        ],\n",
       "       [1.        , 0.        ],\n",
       "       [1.        , 0.        ],\n",
       "       [0.        , 1.        ],\n",
       "       [1.        , 0.        ],\n",
       "       [1.        , 0.        ],\n",
       "       [1.        , 0.        ],\n",
       "       [0.25      , 0.75      ],\n",
       "       [0.        , 1.        ],\n",
       "       [1.        , 0.        ],\n",
       "       [0.        , 1.        ],\n",
       "       [0.        , 1.        ],\n",
       "       [0.        , 1.        ],\n",
       "       [0.        , 1.        ],\n",
       "       [1.        , 0.        ],\n",
       "       [0.        , 1.        ],\n",
       "       [1.        , 0.        ],\n",
       "       [0.        , 1.        ],\n",
       "       [0.        , 1.        ],\n",
       "       [1.        , 0.        ],\n",
       "       [0.        , 1.        ],\n",
       "       [0.        , 1.        ],\n",
       "       [1.        , 0.        ],\n",
       "       [0.        , 1.        ],\n",
       "       [1.        , 0.        ],\n",
       "       [0.        , 1.        ],\n",
       "       [0.        , 1.        ],\n",
       "       [1.        , 0.        ],\n",
       "       [0.        , 1.        ],\n",
       "       [0.        , 1.        ],\n",
       "       [0.        , 1.        ],\n",
       "       [0.        , 1.        ],\n",
       "       [1.        , 0.        ],\n",
       "       [1.        , 0.        ],\n",
       "       [1.        , 0.        ],\n",
       "       [0.        , 1.        ],\n",
       "       [0.        , 1.        ],\n",
       "       [1.        , 0.        ],\n",
       "       [0.        , 1.        ],\n",
       "       [0.        , 1.        ],\n",
       "       [0.        , 1.        ],\n",
       "       [1.        , 0.        ],\n",
       "       [0.        , 1.        ],\n",
       "       [0.        , 1.        ],\n",
       "       [1.        , 0.        ],\n",
       "       [0.        , 1.        ],\n",
       "       [0.        , 1.        ],\n",
       "       [1.        , 0.        ],\n",
       "       [0.        , 1.        ],\n",
       "       [1.        , 0.        ],\n",
       "       [1.        , 0.        ],\n",
       "       [1.        , 0.        ],\n",
       "       [0.        , 1.        ],\n",
       "       [1.        , 0.        ],\n",
       "       [1.        , 0.        ],\n",
       "       [0.        , 1.        ],\n",
       "       [0.        , 1.        ],\n",
       "       [0.        , 1.        ],\n",
       "       [0.        , 1.        ],\n",
       "       [0.6       , 0.4       ],\n",
       "       [0.        , 1.        ],\n",
       "       [0.        , 1.        ],\n",
       "       [0.5       , 0.5       ],\n",
       "       [0.        , 1.        ],\n",
       "       [0.        , 1.        ],\n",
       "       [0.        , 1.        ],\n",
       "       [1.        , 0.        ],\n",
       "       [1.        , 0.        ],\n",
       "       [0.        , 1.        ],\n",
       "       [1.        , 0.        ],\n",
       "       [0.        , 1.        ],\n",
       "       [1.        , 0.        ],\n",
       "       [0.        , 1.        ],\n",
       "       [1.        , 0.        ],\n",
       "       [1.        , 0.        ],\n",
       "       [0.        , 1.        ],\n",
       "       [1.        , 0.        ],\n",
       "       [0.        , 1.        ],\n",
       "       [1.        , 0.        ],\n",
       "       [1.        , 0.        ],\n",
       "       [1.        , 0.        ],\n",
       "       [0.        , 1.        ],\n",
       "       [1.        , 0.        ],\n",
       "       [1.        , 0.        ],\n",
       "       [1.        , 0.        ],\n",
       "       [1.        , 0.        ],\n",
       "       [1.        , 0.        ],\n",
       "       [0.        , 1.        ],\n",
       "       [1.        , 0.        ],\n",
       "       [1.        , 0.        ],\n",
       "       [0.        , 1.        ],\n",
       "       [0.        , 1.        ],\n",
       "       [1.        , 0.        ],\n",
       "       [0.5       , 0.5       ],\n",
       "       [1.        , 0.        ],\n",
       "       [1.        , 0.        ],\n",
       "       [0.        , 1.        ],\n",
       "       [0.        , 1.        ],\n",
       "       [0.        , 1.        ],\n",
       "       [1.        , 0.        ],\n",
       "       [1.        , 0.        ],\n",
       "       [0.        , 1.        ],\n",
       "       [0.        , 1.        ],\n",
       "       [0.        , 1.        ],\n",
       "       [0.        , 1.        ],\n",
       "       [1.        , 0.        ],\n",
       "       [0.        , 1.        ],\n",
       "       [0.        , 1.        ],\n",
       "       [0.        , 1.        ],\n",
       "       [1.        , 0.        ],\n",
       "       [0.        , 1.        ],\n",
       "       [0.        , 1.        ],\n",
       "       [1.        , 0.        ],\n",
       "       [0.        , 1.        ],\n",
       "       [1.        , 0.        ]])"
      ]
     },
     "execution_count": 26,
     "metadata": {},
     "output_type": "execute_result"
    }
   ],
   "source": [
    "# The Probability of heart_disease for each data points\n",
    "\n",
    "classifier.predict_proba(X_test )\n"
   ]
  },
  {
   "cell_type": "markdown",
   "metadata": {},
   "source": [
    "The right column is the probablity of not having heart_disease and the left column is the probablity of having heart_disease"
   ]
  },
  {
   "cell_type": "code",
   "execution_count": 27,
   "metadata": {},
   "outputs": [
    {
     "name": "stdout",
     "output_type": "stream",
     "text": [
      "One vs rest accuracy: 0.963\n",
      "One vs one accuracy: 0.971\n"
     ]
    }
   ],
   "source": [
    "from sklearn.multiclass import OneVsRestClassifier, OneVsOneClassifier\n",
    "OVR = OneVsRestClassifier(classifier).fit(X_train,y_train)\n",
    "OVO = OneVsOneClassifier(classifier).fit(X_train,y_train)\n",
    "print( 'One vs rest accuracy: %.3f' % OVR.score(X_test,y_test) )\n",
    "print( 'One vs one accuracy: %.3f' % OVO.score(X_test,y_test) )"
   ]
  },
  {
   "cell_type": "code",
   "execution_count": 28,
   "metadata": {},
   "outputs": [],
   "source": [
    "from sklearn import tree\n",
    "from sklearn.tree import DecisionTreeClassifier, plot_tree"
   ]
  },
  {
   "cell_type": "code",
   "execution_count": 29,
   "metadata": {},
   "outputs": [],
   "source": [
    "# Parameters\n",
    "n_classes = 2\n",
    "plot_colors = \"rg\"\n",
    "plot_step = 0.02"
   ]
  },
  {
   "cell_type": "code",
   "execution_count": 35,
   "metadata": {},
   "outputs": [],
   "source": [
    "for pairidx, pair in enumerate([[0, 1], [0, 2], [0, 3],\n",
    "                                [1, 2], [1, 3], [2, 3]]):\n",
    "     X = X_train\n",
    "     y = y_train"
   ]
  },
  {
   "cell_type": "markdown",
   "metadata": {},
   "source": [
    "How the data is split"
   ]
  },
  {
   "cell_type": "code",
   "execution_count": 36,
   "metadata": {},
   "outputs": [
    {
     "data": {
      "image/png": "[encoded data removed]",
      "text/plain": [
       "<Figure size 432x288 with 1 Axes>"
      ]
     },
     "metadata": {
      "needs_background": "light"
     },
     "output_type": "display_data"
    }
   ],
   "source": [
    "   \n",
    "    x_min, x_max = X[:, 0].min() - 1, X[:, 0].max() + 1\n",
    "    y_min, y_max = X[:, 1].min() - 1, X[:, 1].max() + 1\n",
    "    xx, yy = np.meshgrid(np.arange(x_min, x_max, plot_step),\n",
    "                         np.arange(y_min, y_max, plot_step))\n",
    "    plt.tight_layout(h_pad=0.5, w_pad=0.5, pad=2.5)\n",
    "    \n",
    "    Z = classifier.predict(np.c_[xx.ravel(), yy.ravel()])\n",
    "    Z = Z.reshape(xx.shape)\n",
    "    cs = plt.contourf(xx, yy, Z, cmap=plt.cm.RdYlBu)\n",
    "        # Plot the training points\n",
    "    for i, color in zip(range(n_classes), plot_colors):\n",
    "        idx = np.where(y == i)\n",
    "        plt.scatter(X[idx, 0], X[idx, 1], c=color, label=y_train[i],\n",
    "                    cmap=plt.cm.RdYlBu, edgecolor='black', s=15)"
   ]
  },
  {
   "cell_type": "code",
   "execution_count": 37,
   "metadata": {},
   "outputs": [],
   "source": [
    "for pairidx, pair in enumerate([[0, 1], [0, 2], [0, 3],\n",
    "                                [1, 2], [1, 3], [2, 3]]):\n",
    "     X = X_test\n",
    "     y = y_test"
   ]
  },
  {
   "cell_type": "code",
   "execution_count": 40,
   "metadata": {},
   "outputs": [
    {
     "data": {
      "image/png": "[encoded data removed]",
      "text/plain": [
       "<Figure size 432x288 with 1 Axes>"
      ]
     },
     "metadata": {
      "needs_background": "light"
     },
     "output_type": "display_data"
    }
   ],
   "source": [
    "    x_min, x_max = X[:, 0].min() - 1, X[:, 0].max() + 1\n",
    "    y_min, y_max = X[:, 1].min() - 1, X[:, 1].max() + 1\n",
    "    xx, yy = np.meshgrid(np.arange(x_min, x_max, plot_step),\n",
    "                         np.arange(y_min, y_max, plot_step))\n",
    "    plt.tight_layout(h_pad=0.5, w_pad=0.5, pad=2.5)\n",
    "    \n",
    "    Z = classifier.predict(np.c_[xx.ravel(), yy.ravel()])\n",
    "    Z = Z.reshape(xx.shape)\n",
    "    cs = plt.contourf(xx, yy, Z, cmap=plt.cm.RdYlBu)\n",
    "        # Plot the test points\n",
    "    for i, color in zip(range(n_classes), plot_colors):\n",
    "        idx = np.where(y == i)\n",
    "        plt.scatter(X[idx, 0], X[idx, 1], c=color, label=y_train[i],\n",
    "                    cmap=plt.cm.RdYlBu, edgecolor='black', s=15)"
   ]
  },
  {
   "cell_type": "markdown",
   "metadata": {},
   "source": [
    "Tree"
   ]
  },
  {
   "cell_type": "code",
   "execution_count": 41,
   "metadata": {},
   "outputs": [
    {
     "data": {
      "text/plain": [
       "[Text(181.8310344827586, 201.90857142857143, 'X[1] <= -0.11\\nentropy = 0.981\\nsamples = 243\\nvalue = [102, 141]\\nclass = cholesterol'),\n",
       " Text(92.35862068965517, 170.84571428571428, 'X[1] <= -1.394\\nentropy = 0.882\\nsamples = 113\\nvalue = [34, 79]\\nclass = cholesterol'),\n",
       " Text(57.72413793103448, 139.78285714285715, 'X[1] <= -1.51\\nentropy = 0.764\\nsamples = 9\\nvalue = [7, 2]\\nclass = blood pressure'),\n",
       " Text(46.179310344827584, 108.72, 'X[1] <= -1.53\\nentropy = 0.918\\nsamples = 6\\nvalue = [4, 2]\\nclass = blood pressure'),\n",
       " Text(34.63448275862069, 77.65714285714284, 'X[1] <= -1.666\\nentropy = 0.722\\nsamples = 5\\nvalue = [4, 1]\\nclass = blood pressure'),\n",
       " Text(23.089655172413792, 46.59428571428572, 'X[0] <= -0.384\\nentropy = 1.0\\nsamples = 2\\nvalue = [1, 1]\\nclass = blood pressure'),\n",
       " Text(11.544827586206896, 15.531428571428563, '\\n  (...)  \\n'),\n",
       " Text(34.63448275862069, 15.531428571428563, '\\n  (...)  \\n'),\n",
       " Text(46.179310344827584, 46.59428571428572, 'entropy = 0.0\\nsamples = 3\\nvalue = [3, 0]\\nclass = blood pressure'),\n",
       " Text(57.72413793103448, 77.65714285714284, 'entropy = 0.0\\nsamples = 1\\nvalue = [0, 1]\\nclass = cholesterol'),\n",
       " Text(69.26896551724138, 108.72, 'entropy = 0.0\\nsamples = 3\\nvalue = [3, 0]\\nclass = blood pressure'),\n",
       " Text(126.99310344827586, 139.78285714285715, 'X[0] <= -1.364\\nentropy = 0.826\\nsamples = 104\\nvalue = [27, 77]\\nclass = cholesterol'),\n",
       " Text(92.35862068965517, 108.72, 'X[1] <= -0.305\\nentropy = 0.391\\nsamples = 13\\nvalue = [1, 12]\\nclass = cholesterol'),\n",
       " Text(80.81379310344828, 77.65714285714284, 'entropy = 0.0\\nsamples = 11\\nvalue = [0, 11]\\nclass = cholesterol'),\n",
       " Text(103.90344827586206, 77.65714285714284, 'X[0] <= -1.681\\nentropy = 1.0\\nsamples = 2\\nvalue = [1, 1]\\nclass = blood pressure'),\n",
       " Text(92.35862068965517, 46.59428571428572, 'entropy = 0.0\\nsamples = 1\\nvalue = [1, 0]\\nclass = blood pressure'),\n",
       " Text(115.44827586206895, 46.59428571428572, 'entropy = 0.0\\nsamples = 1\\nvalue = [0, 1]\\nclass = cholesterol'),\n",
       " Text(161.62758620689655, 108.72, 'X[0] <= 1.404\\nentropy = 0.863\\nsamples = 91\\nvalue = [26, 65]\\nclass = cholesterol'),\n",
       " Text(150.08275862068965, 77.65714285714284, 'X[0] <= 0.971\\nentropy = 0.884\\nsamples = 86\\nvalue = [26, 60]\\nclass = cholesterol'),\n",
       " Text(138.53793103448277, 46.59428571428572, 'X[1] <= -0.771\\nentropy = 0.874\\nsamples = 85\\nvalue = [25, 60]\\nclass = cholesterol'),\n",
       " Text(126.99310344827586, 15.531428571428563, '\\n  (...)  \\n'),\n",
       " Text(150.08275862068965, 15.531428571428563, '\\n  (...)  \\n'),\n",
       " Text(161.62758620689655, 46.59428571428572, 'entropy = 0.0\\nsamples = 1\\nvalue = [1, 0]\\nclass = blood pressure'),\n",
       " Text(173.17241379310343, 77.65714285714284, 'entropy = 0.0\\nsamples = 5\\nvalue = [0, 5]\\nclass = cholesterol'),\n",
       " Text(271.3034482758621, 170.84571428571428, 'X[0] <= 1.779\\nentropy = 0.998\\nsamples = 130\\nvalue = [68, 62]\\nclass = blood pressure'),\n",
       " Text(242.44137931034481, 139.78285714285715, 'X[1] <= 1.776\\nentropy = 0.999\\nsamples = 118\\nvalue = [57, 61]\\nclass = cholesterol'),\n",
       " Text(219.35172413793103, 108.72, 'X[1] <= 1.582\\nentropy = 0.999\\nsamples = 108\\nvalue = [56, 52]\\nclass = blood pressure'),\n",
       " Text(207.80689655172412, 77.65714285714284, 'X[1] <= 0.862\\nentropy = 1.0\\nsamples = 104\\nvalue = [52, 52]\\nclass = blood pressure'),\n",
       " Text(184.71724137931034, 46.59428571428572, 'X[0] <= 1.116\\nentropy = 0.987\\nsamples = 76\\nvalue = [43, 33]\\nclass = blood pressure'),\n",
       " Text(173.17241379310343, 15.531428571428563, '\\n  (...)  \\n'),\n",
       " Text(196.26206896551724, 15.531428571428563, '\\n  (...)  \\n'),\n",
       " Text(230.8965517241379, 46.59428571428572, 'X[1] <= 1.018\\nentropy = 0.906\\nsamples = 28\\nvalue = [9, 19]\\nclass = cholesterol'),\n",
       " Text(219.35172413793103, 15.531428571428563, '\\n  (...)  \\n'),\n",
       " Text(242.44137931034481, 15.531428571428563, '\\n  (...)  \\n'),\n",
       " Text(230.8965517241379, 77.65714285714284, 'entropy = 0.0\\nsamples = 4\\nvalue = [4, 0]\\nclass = blood pressure'),\n",
       " Text(265.5310344827586, 108.72, 'X[1] <= 2.69\\nentropy = 0.469\\nsamples = 10\\nvalue = [1, 9]\\nclass = cholesterol'),\n",
       " Text(253.98620689655172, 77.65714285714284, 'entropy = 0.0\\nsamples = 7\\nvalue = [0, 7]\\nclass = cholesterol'),\n",
       " Text(277.07586206896553, 77.65714285714284, 'X[1] <= 3.245\\nentropy = 0.918\\nsamples = 3\\nvalue = [1, 2]\\nclass = cholesterol'),\n",
       " Text(265.5310344827586, 46.59428571428572, 'entropy = 0.0\\nsamples = 1\\nvalue = [1, 0]\\nclass = blood pressure'),\n",
       " Text(288.6206896551724, 46.59428571428572, 'entropy = 0.0\\nsamples = 2\\nvalue = [0, 2]\\nclass = cholesterol'),\n",
       " Text(300.1655172413793, 139.78285714285715, 'X[1] <= 1.183\\nentropy = 0.414\\nsamples = 12\\nvalue = [11, 1]\\nclass = blood pressure'),\n",
       " Text(288.6206896551724, 108.72, 'entropy = 0.0\\nsamples = 9\\nvalue = [9, 0]\\nclass = blood pressure'),\n",
       " Text(311.7103448275862, 108.72, 'X[1] <= 1.543\\nentropy = 0.918\\nsamples = 3\\nvalue = [2, 1]\\nclass = blood pressure'),\n",
       " Text(300.1655172413793, 77.65714285714284, 'entropy = 0.0\\nsamples = 1\\nvalue = [0, 1]\\nclass = cholesterol'),\n",
       " Text(323.2551724137931, 77.65714285714284, 'entropy = 0.0\\nsamples = 2\\nvalue = [2, 0]\\nclass = blood pressure')]"
      ]
     },
     "execution_count": 41,
     "metadata": {},
     "output_type": "execute_result"
    },
    {
     "data": {
      "image/png": "[encoded data removed]",
      "text/plain": [
       "<Figure size 432x288 with 1 Axes>"
      ]
     },
     "metadata": {
      "needs_background": "light"
     },
     "output_type": "display_data"
    }
   ],
   "source": [
    "tree.plot_tree(classifier.fit(X_test,y_test),max_depth=5,class_names=('blood pressure','cholesterol'),fontsize=3,filled=True)"
   ]
  },
  {
   "cell_type": "code",
   "execution_count": 45,
   "metadata": {},
   "outputs": [],
   "source": [
    "#Visualization\n",
    "import seaborn as sns"
   ]
  },
  {
   "cell_type": "code",
   "execution_count": 46,
   "metadata": {},
   "outputs": [
    {
     "data": {
      "text/plain": [
       "<matplotlib.axes._subplots.AxesSubplot at 0xd5b43ee748>"
      ]
     },
     "execution_count": 46,
     "metadata": {},
     "output_type": "execute_result"
    },
    {
     "data": {
      "image/png": "[encoded data removed]",
      "text/plain": [
       "<Figure size 432x288 with 1 Axes>"
      ]
     },
     "metadata": {
      "needs_background": "light"
     },
     "output_type": "display_data"
    }
   ],
   "source": [
    "#scatter plot of blood pression vs. cholesterol\n",
    "\n",
    "sns.regplot(heart_disease.trestbps,heart_disease.chol)"
   ]
  },
  {
   "cell_type": "code",
   "execution_count": 48,
   "metadata": {},
   "outputs": [],
   "source": [
    "from matplotlib.colors import ListedColormap"
   ]
  },
  {
   "cell_type": "code",
   "execution_count": 49,
   "metadata": {},
   "outputs": [
    {
     "name": "stderr",
     "output_type": "stream",
     "text": [
      "'c' argument looks like a single numeric RGB or RGBA sequence, which should be avoided as value-mapping will have precedence in case its length matches with 'x' & 'y'.  Please use a 2-D array with a single row if you really want to specify the same RGB or RGBA value for all points.\n",
      "'c' argument looks like a single numeric RGB or RGBA sequence, which should be avoided as value-mapping will have precedence in case its length matches with 'x' & 'y'.  Please use a 2-D array with a single row if you really want to specify the same RGB or RGBA value for all points.\n"
     ]
    },
    {
     "data": {
      "image/png": "[encoded data removed]",
      "text/plain": [
       "<Figure size 432x288 with 1 Axes>"
      ]
     },
     "metadata": {
      "needs_background": "light"
     },
     "output_type": "display_data"
    }
   ],
   "source": [
    "# train dataset\n",
    "X_set, y_set = X_train, y_train\n",
    "X1, X2 = np.meshgrid(np.arange(start = X_set[:, 0].min() - 1, stop = X_set[:, 0].max() + 1, step = 0.01),\n",
    "                     np.arange(start = X_set[:, 1].min() - 1, stop = X_set[:, 1].max() + 1, step = 0.01))\n",
    "plt.contourf(X1, X2, classifier.predict(np.array([X1.ravel(), X2.ravel()]).T).reshape(X1.shape),\n",
    "             alpha = 0.75, cmap = ListedColormap(('red', 'green')))\n",
    "plt.xlim(X1.min(), X1.max())\n",
    "plt.ylim(X2.min(), X2.max())\n",
    "for i, j in enumerate(np.unique(y_set)):\n",
    "    plt.scatter(X_set[y_set == j, 0], X_set[y_set == j, 1],\n",
    "                c = ListedColormap(('red', 'green'))(i), label = j)\n",
    "plt.title('Classifier (Train set)')\n",
    "plt.xlabel('Blood Pressure')\n",
    "plt.ylabel('Cholesterol')\n",
    "plt.legend()\n",
    "plt.show()\n",
    "                     "
   ]
  },
  {
   "cell_type": "markdown",
   "metadata": {},
   "source": [
    "The green dots are the true observed data point and the red dots are the false observed data point\n",
    "The green area is the predicted true area and the red area is the predicted false area"
   ]
  },
  {
   "cell_type": "code",
   "execution_count": 50,
   "metadata": {},
   "outputs": [
    {
     "name": "stderr",
     "output_type": "stream",
     "text": [
      "'c' argument looks like a single numeric RGB or RGBA sequence, which should be avoided as value-mapping will have precedence in case its length matches with 'x' & 'y'.  Please use a 2-D array with a single row if you really want to specify the same RGB or RGBA value for all points.\n",
      "'c' argument looks like a single numeric RGB or RGBA sequence, which should be avoided as value-mapping will have precedence in case its length matches with 'x' & 'y'.  Please use a 2-D array with a single row if you really want to specify the same RGB or RGBA value for all points.\n"
     ]
    },
    {
     "data": {
      "image/png": "[encoded data removed]",
      "text/plain": [
       "<Figure size 432x288 with 1 Axes>"
      ]
     },
     "metadata": {
      "needs_background": "light"
     },
     "output_type": "display_data"
    }
   ],
   "source": [
    "# test dataset\n",
    "X_set, y_set = X_train, y_train\n",
    "X1, X2 = np.meshgrid(np.arange(start = X_set[:, 0].min() - 1, stop = X_set[:, 0].max() + 1, step = 0.01),\n",
    "                     np.arange(start = X_set[:, 1].min() - 1, stop = X_set[:, 1].max() + 1, step = 0.01))\n",
    "plt.contourf(X1, X2, classifier.predict(np.array([X1.ravel(), X2.ravel()]).T).reshape(X1.shape),\n",
    "             alpha = 0.75, cmap = ListedColormap(('red', 'green')))\n",
    "plt.xlim(X1.min(), X1.max())\n",
    "plt.ylim(X2.min(), X2.max())\n",
    "for i, j in enumerate(np.unique(y_set)):\n",
    "    plt.scatter(X_set[y_set == j, 0], X_set[y_set == j, 1],\n",
    "                c = ListedColormap(('red', 'green'))(i), label = j)\n",
    "plt.title('Classifier (Test set)')\n",
    "plt.xlabel('Blood Pressure')\n",
    "plt.ylabel('Cholesterol')\n",
    "plt.legend()\n",
    "plt.show()\n",
    "                     "
   ]
  },
  {
   "cell_type": "markdown",
   "metadata": {},
   "source": [
    "The green dots are the true observed data point and the red dots are the false observed data point\n",
    "The green area is the predicted true area and the red area is the predicted false area"
   ]
  },
  {
   "cell_type": "markdown",
   "metadata": {},
   "source": [
    "The results is to determine base two explanatory variable: blood pressure and cholesterol. There were 234 correct predictions and 9 incorrect predictions and an accuracy of 0.9629629629629629\n"
   ]
  }
 ],
 "metadata": {
  "kernelspec": {
   "display_name": "Python 3",
   "language": "python",
   "name": "python3"
  },
  "language_info": {
   "codemirror_mode": {
    "name": "ipython",
    "version": 3
   },
   "file_extension": ".py",
   "mimetype": "text/x-python",
   "name": "python",
   "nbconvert_exporter": "python",
   "pygments_lexer": "ipython3",
   "version": "3.7.3"
  }
 },
 "nbformat": 4,
 "nbformat_minor": 2
}
